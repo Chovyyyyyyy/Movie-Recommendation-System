{
 "cells": [
  {
   "cell_type": "markdown",
   "metadata": {
    "colab_type": "text",
    "id": "DtdIsjLyH_4D"
   },
   "source": [
    "This notebook compares the different collaborative filtering approaches — item-item based vs user-user based and four similarities option."
   ]
  },
  {
   "cell_type": "code",
   "execution_count": 1,
   "metadata": {
    "colab": {},
    "colab_type": "code",
    "id": "1tc-yGKDNR4L"
   },
   "outputs": [],
   "source": [
    "from surprise import SVD, SVDpp\n",
    "from surprise import Dataset\n",
    "from surprise.model_selection import cross_validate\n",
    "from surprise.prediction_algorithms import KNNBasic, KNNWithMeans\n",
    "from surprise import accuracy\n",
    "from surprise.model_selection import train_test_split"
   ]
  },
  {
   "cell_type": "code",
   "execution_count": 2,
   "metadata": {
    "colab": {},
    "colab_type": "code",
    "id": "Kvq85UBVNU_v"
   },
   "outputs": [],
   "source": [
    "# Load the movielens-1M dataset\n",
    "data = Dataset.load_builtin('ml-1m')"
   ]
  },
  {
   "cell_type": "code",
   "execution_count": 3,
   "metadata": {
    "colab": {},
    "colab_type": "code",
    "id": "I1PsMx8jPL19"
   },
   "outputs": [],
   "source": [
    "# sample random trainset and testset\n",
    "# test set is made of 25% of the ratings.\n",
    "trainset, testset = train_test_split(data, test_size=.20)"
   ]
  },
  {
   "cell_type": "code",
   "execution_count": 4,
   "metadata": {
    "colab": {},
    "colab_type": "code",
    "id": "7w0KWjbqTTIQ"
   },
   "outputs": [],
   "source": [
    "def recommendation(algo, trainset, testset):\n",
    "  # Train the algorithm on the trainset, and predict ratings for the testset\n",
    "  algo.fit(trainset)\n",
    "  predictions = algo.test(testset)\n",
    "\n",
    "  # Then compute RMSE\n",
    "  accuracy.rmse(predictions)\n",
    "  # Then compute MAE\n",
    "  accuracy.mae(predictions)\n",
    "  return"
   ]
  },
  {
   "cell_type": "markdown",
   "metadata": {},
   "source": [
    "Comparison between 4 similarities"
   ]
  },
  {
   "cell_type": "markdown",
   "metadata": {},
   "source": [
    "Cosine"
   ]
  },
  {
   "cell_type": "code",
   "execution_count": 10,
   "metadata": {
    "colab": {
     "base_uri": "https://localhost:8080/",
     "height": 118
    },
    "colab_type": "code",
    "id": "XvUB_8TvPQjt",
    "outputId": "bf6c3d43-5cc4-4717-a9bd-cc64a16e4c5f"
   },
   "outputs": [
    {
     "name": "stdout",
     "output_type": "stream",
     "text": [
      "Computing the cosine similarity matrix...\n",
      "Done computing similarity matrix.\n",
      "RMSE: 0.8919\n",
      "MAE:  0.7017\n",
      "Done!\n"
     ]
    }
   ],
   "source": [
    "sim_options = {'name': 'cosine',\n",
    "               'user_based': False  # compute  similarities between items\n",
    "               }\n",
    "algo = KNNWithMeans(sim_options=sim_options)\n",
    "\n",
    "algo.fit(trainset)\n",
    "predictions = algo.test(testset)\n",
    "\n",
    "accuracy.rmse(predictions)\n",
    "accuracy.mae(predictions)\n",
    "print(\"Done!\")"
   ]
  },
  {
   "cell_type": "code",
   "execution_count": 11,
   "metadata": {
    "colab": {
     "base_uri": "https://localhost:8080/",
     "height": 101
    },
    "colab_type": "code",
    "id": "BHzbICP5d3Mp",
    "outputId": "dadf0b00-8c2f-41a6-f381-dc0fb347ccff"
   },
   "outputs": [
    {
     "name": "stdout",
     "output_type": "stream",
     "text": [
      "Computing the cosine similarity matrix...\n",
      "Done computing similarity matrix.\n",
      "RMSE: 0.9371\n",
      "MAE:  0.7463\n"
     ]
    }
   ],
   "source": [
    "sim_options = {'name': 'cosine'}\n",
    "algo = KNNWithMeans(sim_options=sim_options)\n",
    "recommendation(algo, trainset, testset)"
   ]
  },
  {
   "cell_type": "markdown",
   "metadata": {},
   "source": [
    "MSD"
   ]
  },
  {
   "cell_type": "code",
   "execution_count": 12,
   "metadata": {
    "colab": {
     "base_uri": "https://localhost:8080/",
     "height": 101
    },
    "colab_type": "code",
    "id": "BHzbICP5d3Mp",
    "outputId": "dadf0b00-8c2f-41a6-f381-dc0fb347ccff"
   },
   "outputs": [
    {
     "name": "stdout",
     "output_type": "stream",
     "text": [
      "Computing the msd similarity matrix...\n",
      "Done computing similarity matrix.\n",
      "RMSE: 0.8835\n",
      "MAE:  0.6936\n",
      "Done!\n"
     ]
    }
   ],
   "source": [
    "sim_options = {'name': 'msd',\n",
    "               'user_based': False  # compute  similarities between items\n",
    "               }\n",
    "algo = KNNWithMeans(sim_options=sim_options)\n",
    "\n",
    "algo.fit(trainset)\n",
    "predictions = algo.test(testset)\n",
    "\n",
    "accuracy.rmse(predictions)\n",
    "accuracy.mae(predictions)\n",
    "print(\"Done!\")"
   ]
  },
  {
   "cell_type": "code",
   "execution_count": 13,
   "metadata": {
    "scrolled": true
   },
   "outputs": [
    {
     "name": "stdout",
     "output_type": "stream",
     "text": [
      "Computing the msd similarity matrix...\n",
      "Done computing similarity matrix.\n",
      "RMSE: 0.9269\n",
      "MAE:  0.7372\n"
     ]
    }
   ],
   "source": [
    "sim_options = {'name': 'msd'}\n",
    "algo = KNNWithMeans(sim_options=sim_options)\n",
    "recommendation(algo, trainset, testset)"
   ]
  },
  {
   "cell_type": "markdown",
   "metadata": {},
   "source": [
    "Pearson"
   ]
  },
  {
   "cell_type": "code",
   "execution_count": 14,
   "metadata": {},
   "outputs": [
    {
     "name": "stdout",
     "output_type": "stream",
     "text": [
      "Computing the pearson similarity matrix...\n",
      "Done computing similarity matrix.\n",
      "RMSE: 0.8867\n",
      "MAE:  0.6961\n",
      "Done!\n"
     ]
    }
   ],
   "source": [
    "sim_options = {'name': 'pearson',\n",
    "               'user_based': False  # compute  similarities between items\n",
    "               }\n",
    "algo = KNNWithMeans(sim_options=sim_options)\n",
    "\n",
    "algo.fit(trainset)\n",
    "predictions = algo.test(testset)\n",
    "\n",
    "accuracy.rmse(predictions)\n",
    "accuracy.mae(predictions)\n",
    "print(\"Done!\")"
   ]
  },
  {
   "cell_type": "code",
   "execution_count": 15,
   "metadata": {},
   "outputs": [
    {
     "name": "stdout",
     "output_type": "stream",
     "text": [
      "Computing the pearson similarity matrix...\n",
      "Done computing similarity matrix.\n",
      "RMSE: 0.9160\n",
      "MAE:  0.7218\n"
     ]
    }
   ],
   "source": [
    "sim_options = {'name': 'pearson'}\n",
    "algo = KNNWithMeans(sim_options=sim_options)\n",
    "recommendation(algo, trainset, testset)"
   ]
  },
  {
   "cell_type": "markdown",
   "metadata": {},
   "source": [
    "Pearson Baseline"
   ]
  },
  {
   "cell_type": "code",
   "execution_count": 16,
   "metadata": {},
   "outputs": [
    {
     "name": "stdout",
     "output_type": "stream",
     "text": [
      "Estimating biases using als...\n",
      "Computing the pearson_baseline similarity matrix...\n",
      "Done computing similarity matrix.\n",
      "RMSE: 0.8562\n",
      "MAE:  0.6705\n",
      "Done!\n"
     ]
    }
   ],
   "source": [
    "sim_options = {'name': 'pearson_baseline',\n",
    "               'user_based': False  # compute  similarities between items\n",
    "               }\n",
    "algo = KNNWithMeans(sim_options=sim_options)\n",
    "\n",
    "algo.fit(trainset)\n",
    "predictions = algo.test(testset)\n",
    "\n",
    "accuracy.rmse(predictions)\n",
    "accuracy.mae(predictions)\n",
    "print(\"Done!\")"
   ]
  },
  {
   "cell_type": "code",
   "execution_count": 17,
   "metadata": {
    "colab": {
     "base_uri": "https://localhost:8080/",
     "height": 101
    },
    "colab_type": "code",
    "id": "BHzbICP5d3Mp",
    "outputId": "dadf0b00-8c2f-41a6-f381-dc0fb347ccff"
   },
   "outputs": [
    {
     "name": "stdout",
     "output_type": "stream",
     "text": [
      "Estimating biases using als...\n",
      "Computing the pearson_baseline similarity matrix...\n",
      "Done computing similarity matrix.\n",
      "RMSE: 0.8867\n",
      "MAE:  0.6896\n"
     ]
    }
   ],
   "source": [
    "sim_options = {'name': 'pearson_baseline'}\n",
    "algo = KNNWithMeans(sim_options=sim_options)\n",
    "recommendation(algo, trainset, testset)"
   ]
  },
  {
   "cell_type": "code",
   "execution_count": 18,
   "metadata": {
    "colab": {},
    "colab_type": "code",
    "id": "XFpEsH4DvOKm"
   },
   "outputs": [],
   "source": [
    "import matplotlib.pyplot as plt\n"
   ]
  },
  {
   "cell_type": "code",
   "execution_count": 22,
   "metadata": {
    "colab": {
     "base_uri": "https://localhost:8080/",
     "height": 358
    },
    "colab_type": "code",
    "id": "6u3XUtVHqjq1",
    "outputId": "25cc0cca-60a5-4edb-dedd-08891ca3be24"
   },
   "outputs": [
    {
     "data": {
      "image/png": "[encoded data removed]",
      "text/plain": [
       "<Figure size 1080x360 with 1 Axes>"
      ]
     },
     "metadata": {
      "needs_background": "light"
     },
     "output_type": "display_data"
    }
   ],
   "source": [
    "x_algo = ['cosine', 'msd', 'pearson', 'pearson_baseline']\n",
    "\n",
    "item_rmse = [0.8919, 0.8835, 0.8867, 0.8562]\n",
    "item_mae  = [0.7017, 0.6936, 0.6961, 0.6705]\n",
    "user_rmse = [0.9371, 0.9269, 0.9160, 0.8867]\n",
    "user_mae  = [0.7463, 0.7372, 0.7218, 0.6896]\n",
    "\n",
    "plt.figure(figsize=(15,5))\n",
    "\n",
    "# plt.subplot(1, 2, 1)\n",
    "plt.title('Comparison of similarity metric on RMSE and MAE', loc='center', fontsize=15)\n",
    "plt.plot(x_algo, user_rmse, label='User-user RMSE', color='darkgreen', marker='o')\n",
    "plt.plot(x_algo, item_rmse, label='Item-item RMSE', color='navy', marker='o')\n",
    "plt.xlabel('Similarity metric', fontsize=15)\n",
    "plt.ylabel('Error Value', fontsize=15)\n",
    "# plt.legend()\n",
    "# plt.grid(ls='dashed')\n",
    "# plt.show()\n",
    "\n",
    "# plt.subplot(1, 2, 1)\n",
    "# plt.figure(figsize=(15,5))\n",
    "# plt.title('Comparison of similarity metric on MAE', loc='center', fontsize=15)\n",
    "plt.plot(x_algo, user_mae, label='User-user MAE', color='darkgreen', marker='o')\n",
    "plt.plot(x_algo, item_mae, label='Item-item MAE', color='navy', marker='o')\n",
    "# plt.xlabel('Similarity metric', fontsize=15)\n",
    "# plt.ylabel('MAE Value', fontsize=15)\n",
    "plt.legend()\n",
    "plt.grid(ls='dashed')\n",
    "\n",
    "plt.show()"
   ]
  }
 ],
 "metadata": {
  "colab": {
   "collapsed_sections": [],
   "name": "knn_analysis.ipynb",
   "provenance": []
  },
  "kernelspec": {
   "display_name": "Python 3 (ipykernel)",
   "language": "python",
   "name": "python3"
  },
  "language_info": {
   "codemirror_mode": {
    "name": "ipython",
    "version": 3
   },
   "file_extension": ".py",
   "mimetype": "text/x-python",
   "name": "python",
   "nbconvert_exporter": "python",
   "pygments_lexer": "ipython3",
   "version": "3.8.13"
  }
 },
 "nbformat": 4,
 "nbformat_minor": 1
}
