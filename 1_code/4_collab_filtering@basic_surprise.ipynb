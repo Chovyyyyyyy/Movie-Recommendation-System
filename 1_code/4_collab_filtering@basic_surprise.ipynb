{
 "cells": [
  {
   "cell_type": "markdown",
   "metadata": {
    "colab_type": "text",
    "id": "4frRf8f5GaGm"
   },
   "source": [
    "### Recommendations using surprise library models:\n",
    "\n",
    "This notebook uses the surprise library to build a model using surprise library and generate ratings for the test data. \\\\\n",
    "**Models:** SVD, Baseline estimation, item-item based KNN collaborative filtering etc are explored. Hyperparameter tuning for the models is performed. \\\\\n",
    "**Evaluation:** The test data ratings are stored for further evaluation such as RMSE and MAE. The recommendations are evaluated using precision@5, recall@5, NDCG and overall accuracy. "
   ]
  },
  {
   "cell_type": "code",
   "execution_count": 14,
   "metadata": {
    "colab": {},
    "colab_type": "code",
    "id": "J9FfIKsk0bDJ"
   },
   "outputs": [],
   "source": [
    "from surprise import SVD, SVDpp\n",
    "from surprise.prediction_algorithms import KNNBasic, KNNWithMeans\n",
    "from surprise import Dataset, Reader\n",
    "from surprise.model_selection import cross_validate\n",
    "from surprise import accuracy\n",
    "from surprise.model_selection import train_test_split"
   ]
  },
  {
   "cell_type": "code",
   "execution_count": 2,
   "metadata": {
    "colab": {},
    "colab_type": "code",
    "id": "9KVxfVg3ClZs"
   },
   "outputs": [],
   "source": [
    "import math\n",
    "from collections import defaultdict\n",
    "import csv\n",
    "from sklearn.metrics import ndcg_score\n",
    "import numpy as np\n",
    "import pandas as pd\n",
    "import time"
   ]
  },
  {
   "cell_type": "code",
   "execution_count": 6,
   "metadata": {
    "colab": {},
    "colab_type": "code",
    "id": "EuYk0kIA_UST"
   },
   "outputs": [],
   "source": [
    "def convert_traintest_dataframe_forsurprise(training_dataframe, testing_dataframe):\n",
    "    reader = Reader(rating_scale=(0, 5))\n",
    "    trainset = Dataset.load_from_df(training_dataframe[['userId', 'tmdbId', 'rating']], reader)\n",
    "    testset = Dataset.load_from_df(testing_dataframe[['userId', 'tmdbId', 'rating']], reader)\n",
    "    trainset = trainset.construct_trainset(trainset.raw_ratings)\n",
    "    testset = testset.construct_testset(testset.raw_ratings)\n",
    "    return trainset, testset"
   ]
  },
  {
   "cell_type": "code",
   "execution_count": 7,
   "metadata": {
    "colab": {},
    "colab_type": "code",
    "id": "lWluXYjg_UeP"
   },
   "outputs": [],
   "source": [
    "file_path_train = '../5_data/processed/training_data.csv'\n",
    "file_path_test = '../5_data/processed/testing_data.csv'\n",
    "traindf = pd.read_csv(file_path_train)\n",
    "testdf = pd.read_csv(file_path_test)\n",
    "trainset, testset = convert_traintest_dataframe_forsurprise(traindf, testdf)"
   ]
  },
  {
   "cell_type": "code",
   "execution_count": 8,
   "metadata": {
    "colab": {},
    "colab_type": "code",
    "id": "2RMF8fphXcWs"
   },
   "outputs": [],
   "source": [
    "def get_top_n(predictions, n):\n",
    "    # First map the predictions to each user.\n",
    "    top_n = defaultdict(list)\n",
    "    org_ratings = defaultdict(list)\n",
    "\n",
    "    for uid, iid, true_r, est, _ in predictions:\n",
    "        top_n[uid].append((iid, est))\n",
    "        org_ratings[uid].append((iid, true_r))\n",
    "\n",
    "    # Then sort the predictions for each user and retrieve the k highest ones.\n",
    "    for uid, user_ratings in top_n.items():\n",
    "        user_ratings.sort(key=lambda x: x[1], reverse=True)\n",
    "        top_n[uid] = user_ratings[:n]\n",
    "\n",
    "    return top_n, org_ratings"
   ]
  },
  {
   "cell_type": "code",
   "execution_count": 9,
   "metadata": {
    "colab": {},
    "colab_type": "code",
    "id": "B_tRE3LbYrdc"
   },
   "outputs": [],
   "source": [
    "def dcg_at_k(scores):\n",
    "    return scores[0] + sum(sc/math.log(ind, 2) for sc, ind in zip(scores[1:], range(2, len(scores) + 1)))\n",
    "\n",
    "def ndcg_at_k(scores):\n",
    "    idcg = dcg_at_k(sorted(scores, reverse=True))\n",
    "    return (dcg_at_k(scores)/idcg) if idcg > 0.0 else 0.0"
   ]
  },
  {
   "cell_type": "code",
   "execution_count": 11,
   "metadata": {
    "colab": {},
    "colab_type": "code",
    "id": "0XdmBknpvATu"
   },
   "outputs": [],
   "source": [
    "def precision_recall_at_k(predictions, k=5, threshold=3.5):\n",
    "    '''Return precision and recall at k metrics for each user.'''\n",
    "\n",
    "    # First map the predictions to each user.\n",
    "    user_est_true = defaultdict(list)\n",
    "    for uid, _, true_r, est, _ in predictions:\n",
    "        user_est_true[uid].append((est, true_r))\n",
    "\n",
    "    precisions = dict()\n",
    "    recalls = dict()\n",
    "    for uid, user_ratings in user_est_true.items():\n",
    "\n",
    "        # Sort user ratings by estimated value\n",
    "        user_ratings.sort(key=lambda x: x[0], reverse=True)\n",
    "\n",
    "        # Number of relevant items\n",
    "        n_rel = sum((true_r >= threshold) for (_, true_r) in user_ratings)\n",
    "\n",
    "        # Number of recommended items in top k\n",
    "        n_rec_k = sum((est >= threshold) for (est, _) in user_ratings[:k])\n",
    "\n",
    "        # Number of relevant and recommended items in top k\n",
    "        n_rel_and_rec_k = sum(((true_r >= threshold) and (est >= threshold))\n",
    "                              for (est, true_r) in user_ratings[:k])\n",
    "\n",
    "        # Precision@K: Proportion of recommended items that are relevant\n",
    "        precisions[uid] = n_rel_and_rec_k / n_rec_k if n_rec_k != 0 else 1\n",
    "\n",
    "        # Recall@K: Proportion of relevant items that are recommended\n",
    "        recalls[uid] = n_rel_and_rec_k / n_rel if n_rel != 0 else 1\n",
    "\n",
    "    precision = (sum(prec for prec in precisions.values()) / len(precisions))\n",
    "    recall = (sum(rec for rec in recalls.values()) / len(recalls))\n",
    "\n",
    "    return precision, recall"
   ]
  },
  {
   "cell_type": "code",
   "execution_count": 12,
   "metadata": {
    "colab": {},
    "colab_type": "code",
    "id": "AlitWSrNb2wZ"
   },
   "outputs": [],
   "source": [
    "def recommendation(algo, trainset, testset):\n",
    "  # Train the algorithm on the trainset, and predict ratings for the testset\n",
    "  start_fit = time.time()\n",
    "  algo.fit(trainset)\n",
    "  end_fit = time.time()\n",
    "  fit_time = end_fit - start_fit\n",
    "\n",
    "  # Predictions on testing set\n",
    "  start_test = time.time()\n",
    "  test_predictions = algo.test(testset)\n",
    "  end_test = time.time()\n",
    "  test_time = end_test - start_test\n",
    "\n",
    "  test_rmse = accuracy.rmse(test_predictions)\n",
    "  test_mae = accuracy.mae(test_predictions)\n",
    "\n",
    "  top_n, org_ratings = get_top_n(test_predictions, 5)\n",
    "\n",
    "  precision, recall = precision_recall_at_k(test_predictions)\n",
    "\n",
    "  f_measure = (2*precision*recall)/(precision+recall)\n",
    "\n",
    "  ndcg_scores = dict()\n",
    "  for uid, user_ratings in top_n.items():\n",
    "    scores = []\n",
    "    for iid, est_r in user_ratings:\n",
    "        iid_found = False\n",
    "        org_user_ratings = org_ratings[uid]\n",
    "        for i, r in org_user_ratings:\n",
    "            if iid == i:\n",
    "                scores.append(r)\n",
    "                iid_found = True\n",
    "                break\n",
    "        if not iid_found:\n",
    "            scores.append(0)\n",
    "    ndcg_scores[uid] = ndcg_at_k(scores)\n",
    "  ndcg_score = sum(ndcg for ndcg in ndcg_scores.values())/len(ndcg_scores)\n",
    "\n",
    "  return (test_rmse, test_mae, fit_time, test_time, precision, recall, f_measure, ndcg_score,test_predictions)"
   ]
  },
  {
   "cell_type": "markdown",
   "metadata": {
    "colab_type": "text",
    "id": "sTlXpyp1Zx08"
   },
   "source": [
    "#### Basic algorithm (Baseline approach):"
   ]
  },
  {
   "cell_type": "code",
   "execution_count": 13,
   "metadata": {
    "colab": {},
    "colab_type": "code",
    "id": "IbbkSVVIBOyx"
   },
   "outputs": [],
   "source": [
    "surprise_df = pd.DataFrame(columns= ['Algorithm', 'test_rmse', 'test_mae', 'fit_time', 'test_time', 'Precision', 'Recall', 'F-measure', 'NDCG'])"
   ]
  },
  {
   "cell_type": "code",
   "execution_count": 15,
   "metadata": {
    "colab": {
     "base_uri": "https://localhost:8080/",
     "height": 1000
    },
    "colab_type": "code",
    "id": "nutu-se8aFF1",
    "outputId": "4467ae10-6641-4530-a159-1414cd2439b7"
   },
   "outputs": [
    {
     "name": "stdout",
     "output_type": "stream",
     "text": [
      "Computing the msd similarity matrix...\n",
      "Done computing similarity matrix.\n",
      "RMSE: 0.9674\n",
      "MAE:  0.7441\n",
      "Algorithm: KNNBasic\n",
      "Computing the msd similarity matrix...\n",
      "Done computing similarity matrix.\n",
      "RMSE: 0.9208\n",
      "MAE:  0.7057\n",
      "Algorithm: KNNWithMeans\n",
      "RMSE: 0.9004\n",
      "MAE:  0.6941\n",
      "Algorithm: SVD\n",
      "RMSE: 0.8942\n",
      "MAE:  0.6865\n",
      "Algorithm: SVDpp\n"
     ]
    },
    {
     "data": {
      "text/html": [
       "<div>\n",
       "<style scoped>\n",
       "    .dataframe tbody tr th:only-of-type {\n",
       "        vertical-align: middle;\n",
       "    }\n",
       "\n",
       "    .dataframe tbody tr th {\n",
       "        vertical-align: top;\n",
       "    }\n",
       "\n",
       "    .dataframe thead th {\n",
       "        text-align: right;\n",
       "    }\n",
       "</style>\n",
       "<table border=\"1\" class=\"dataframe\">\n",
       "  <thead>\n",
       "    <tr style=\"text-align: right;\">\n",
       "      <th></th>\n",
       "      <th>Algorithm</th>\n",
       "      <th>test_rmse</th>\n",
       "      <th>test_mae</th>\n",
       "      <th>fit_time</th>\n",
       "      <th>test_time</th>\n",
       "      <th>Precision</th>\n",
       "      <th>Recall</th>\n",
       "      <th>F-measure</th>\n",
       "      <th>NDCG</th>\n",
       "    </tr>\n",
       "  </thead>\n",
       "  <tbody>\n",
       "    <tr>\n",
       "      <th>3</th>\n",
       "      <td>KNNBasic</td>\n",
       "      <td>0.967357</td>\n",
       "      <td>0.744137</td>\n",
       "      <td>0.609963</td>\n",
       "      <td>2.771856</td>\n",
       "      <td>0.792226</td>\n",
       "      <td>0.442964</td>\n",
       "      <td>0.568216</td>\n",
       "      <td>0.960785</td>\n",
       "    </tr>\n",
       "    <tr>\n",
       "      <th>2</th>\n",
       "      <td>KNNWithMeans</td>\n",
       "      <td>0.920777</td>\n",
       "      <td>0.705683</td>\n",
       "      <td>0.235047</td>\n",
       "      <td>2.114045</td>\n",
       "      <td>0.806334</td>\n",
       "      <td>0.394724</td>\n",
       "      <td>0.529998</td>\n",
       "      <td>0.956217</td>\n",
       "    </tr>\n",
       "    <tr>\n",
       "      <th>1</th>\n",
       "      <td>SVD</td>\n",
       "      <td>0.900438</td>\n",
       "      <td>0.694067</td>\n",
       "      <td>7.229630</td>\n",
       "      <td>0.195190</td>\n",
       "      <td>0.816592</td>\n",
       "      <td>0.403079</td>\n",
       "      <td>0.539738</td>\n",
       "      <td>0.960958</td>\n",
       "    </tr>\n",
       "    <tr>\n",
       "      <th>0</th>\n",
       "      <td>SVDpp</td>\n",
       "      <td>0.894213</td>\n",
       "      <td>0.686454</td>\n",
       "      <td>669.893635</td>\n",
       "      <td>10.205841</td>\n",
       "      <td>0.827397</td>\n",
       "      <td>0.403331</td>\n",
       "      <td>0.542305</td>\n",
       "      <td>0.962874</td>\n",
       "    </tr>\n",
       "  </tbody>\n",
       "</table>\n",
       "</div>"
      ],
      "text/plain": [
       "      Algorithm  test_rmse  test_mae    fit_time  test_time  Precision  \\\n",
       "3      KNNBasic   0.967357  0.744137    0.609963   2.771856   0.792226   \n",
       "2  KNNWithMeans   0.920777  0.705683    0.235047   2.114045   0.806334   \n",
       "1           SVD   0.900438  0.694067    7.229630   0.195190   0.816592   \n",
       "0         SVDpp   0.894213  0.686454  669.893635  10.205841   0.827397   \n",
       "\n",
       "     Recall  F-measure      NDCG  \n",
       "3  0.442964   0.568216  0.960785  \n",
       "2  0.394724   0.529998  0.956217  \n",
       "1  0.403079   0.539738  0.960958  \n",
       "0  0.403331   0.542305  0.962874  "
      ]
     },
     "execution_count": 15,
     "metadata": {},
     "output_type": "execute_result"
    }
   ],
   "source": [
    "# Iterate over all algorithms\n",
    "for algorithm in [KNNBasic(), KNNWithMeans(), SVD(), SVDpp()]:\n",
    "    results = recommendation(algorithm,trainset,testset) \n",
    "    \n",
    "    name =str(algorithm).split(' ')[0].split('.')[-1]\n",
    "    print(\"Algorithm:\", name)\n",
    "    df = pd.DataFrame([[name, results[0], results[1], results[2], results[3], results[4], results[5], results[6], results[7]]], columns= ['Algorithm', 'test_rmse', 'test_mae', 'fit_time', 'test_time', 'Precision', 'Recall', 'F-measure', 'NDCG'])\n",
    "    surprise_df = pd.concat([df, surprise_df], ignore_index=True)\n",
    "surprise_df.sort_values(by='test_rmse', ascending=False) "
   ]
  },
  {
   "cell_type": "code",
   "execution_count": 21,
   "metadata": {
    "colab": {
     "base_uri": "https://localhost:8080/",
     "height": 343
    },
    "colab_type": "code",
    "id": "5YvKBuz_b7lA",
    "outputId": "c67035a9-edea-4a9a-e7bf-911f54a64709"
   },
   "outputs": [
    {
     "data": {
      "text/html": [
       "<div>\n",
       "<style scoped>\n",
       "    .dataframe tbody tr th:only-of-type {\n",
       "        vertical-align: middle;\n",
       "    }\n",
       "\n",
       "    .dataframe tbody tr th {\n",
       "        vertical-align: top;\n",
       "    }\n",
       "\n",
       "    .dataframe thead th {\n",
       "        text-align: right;\n",
       "    }\n",
       "</style>\n",
       "<table border=\"1\" class=\"dataframe\">\n",
       "  <thead>\n",
       "    <tr style=\"text-align: right;\">\n",
       "      <th></th>\n",
       "      <th>Algorithm</th>\n",
       "      <th>test_rmse</th>\n",
       "      <th>test_mae</th>\n",
       "      <th>fit_time</th>\n",
       "      <th>test_time</th>\n",
       "      <th>Precision</th>\n",
       "      <th>Recall</th>\n",
       "      <th>F-measure</th>\n",
       "      <th>NDCG</th>\n",
       "    </tr>\n",
       "  </thead>\n",
       "  <tbody>\n",
       "    <tr>\n",
       "      <th>3</th>\n",
       "      <td>KNNBasic</td>\n",
       "      <td>0.967357</td>\n",
       "      <td>0.744137</td>\n",
       "      <td>0.609963</td>\n",
       "      <td>2.771856</td>\n",
       "      <td>0.792226</td>\n",
       "      <td>0.442964</td>\n",
       "      <td>0.568216</td>\n",
       "      <td>0.960785</td>\n",
       "    </tr>\n",
       "    <tr>\n",
       "      <th>2</th>\n",
       "      <td>KNNWithMeans</td>\n",
       "      <td>0.920777</td>\n",
       "      <td>0.705683</td>\n",
       "      <td>0.235047</td>\n",
       "      <td>2.114045</td>\n",
       "      <td>0.806334</td>\n",
       "      <td>0.394724</td>\n",
       "      <td>0.529998</td>\n",
       "      <td>0.956217</td>\n",
       "    </tr>\n",
       "    <tr>\n",
       "      <th>1</th>\n",
       "      <td>SVD</td>\n",
       "      <td>0.900438</td>\n",
       "      <td>0.694067</td>\n",
       "      <td>7.229630</td>\n",
       "      <td>0.195190</td>\n",
       "      <td>0.816592</td>\n",
       "      <td>0.403079</td>\n",
       "      <td>0.539738</td>\n",
       "      <td>0.960958</td>\n",
       "    </tr>\n",
       "    <tr>\n",
       "      <th>0</th>\n",
       "      <td>SVDpp</td>\n",
       "      <td>0.894213</td>\n",
       "      <td>0.686454</td>\n",
       "      <td>669.893635</td>\n",
       "      <td>10.205841</td>\n",
       "      <td>0.827397</td>\n",
       "      <td>0.403331</td>\n",
       "      <td>0.542305</td>\n",
       "      <td>0.962874</td>\n",
       "    </tr>\n",
       "  </tbody>\n",
       "</table>\n",
       "</div>"
      ],
      "text/plain": [
       "      Algorithm  test_rmse  test_mae    fit_time  test_time  Precision  \\\n",
       "3      KNNBasic   0.967357  0.744137    0.609963   2.771856   0.792226   \n",
       "2  KNNWithMeans   0.920777  0.705683    0.235047   2.114045   0.806334   \n",
       "1           SVD   0.900438  0.694067    7.229630   0.195190   0.816592   \n",
       "0         SVDpp   0.894213  0.686454  669.893635  10.205841   0.827397   \n",
       "\n",
       "     Recall  F-measure      NDCG  \n",
       "3  0.442964   0.568216  0.960785  \n",
       "2  0.394724   0.529998  0.956217  \n",
       "1  0.403079   0.539738  0.960958  \n",
       "0  0.403331   0.542305  0.962874  "
      ]
     },
     "execution_count": 21,
     "metadata": {},
     "output_type": "execute_result"
    }
   ],
   "source": [
    "surprise_df.sort_values(by='Precision') "
   ]
  },
  {
   "cell_type": "code",
   "execution_count": 22,
   "metadata": {
    "colab": {
     "base_uri": "https://localhost:8080/",
     "height": 343
    },
    "colab_type": "code",
    "id": "x2STL7RH8ZOk",
    "outputId": "20404807-9c6d-4836-dc53-30a03176fd98"
   },
   "outputs": [
    {
     "data": {
      "text/html": [
       "<div>\n",
       "<style scoped>\n",
       "    .dataframe tbody tr th:only-of-type {\n",
       "        vertical-align: middle;\n",
       "    }\n",
       "\n",
       "    .dataframe tbody tr th {\n",
       "        vertical-align: top;\n",
       "    }\n",
       "\n",
       "    .dataframe thead th {\n",
       "        text-align: right;\n",
       "    }\n",
       "</style>\n",
       "<table border=\"1\" class=\"dataframe\">\n",
       "  <thead>\n",
       "    <tr style=\"text-align: right;\">\n",
       "      <th></th>\n",
       "      <th>Algorithm</th>\n",
       "      <th>test_rmse</th>\n",
       "      <th>test_mae</th>\n",
       "      <th>fit_time</th>\n",
       "      <th>test_time</th>\n",
       "      <th>Precision</th>\n",
       "      <th>Recall</th>\n",
       "      <th>F-measure</th>\n",
       "      <th>NDCG</th>\n",
       "    </tr>\n",
       "  </thead>\n",
       "  <tbody>\n",
       "    <tr>\n",
       "      <th>3</th>\n",
       "      <td>KNNBasic</td>\n",
       "      <td>0.967357</td>\n",
       "      <td>0.744137</td>\n",
       "      <td>0.609963</td>\n",
       "      <td>2.771856</td>\n",
       "      <td>0.792226</td>\n",
       "      <td>0.442964</td>\n",
       "      <td>0.568216</td>\n",
       "      <td>0.960785</td>\n",
       "    </tr>\n",
       "    <tr>\n",
       "      <th>0</th>\n",
       "      <td>SVDpp</td>\n",
       "      <td>0.894213</td>\n",
       "      <td>0.686454</td>\n",
       "      <td>669.893635</td>\n",
       "      <td>10.205841</td>\n",
       "      <td>0.827397</td>\n",
       "      <td>0.403331</td>\n",
       "      <td>0.542305</td>\n",
       "      <td>0.962874</td>\n",
       "    </tr>\n",
       "    <tr>\n",
       "      <th>1</th>\n",
       "      <td>SVD</td>\n",
       "      <td>0.900438</td>\n",
       "      <td>0.694067</td>\n",
       "      <td>7.229630</td>\n",
       "      <td>0.195190</td>\n",
       "      <td>0.816592</td>\n",
       "      <td>0.403079</td>\n",
       "      <td>0.539738</td>\n",
       "      <td>0.960958</td>\n",
       "    </tr>\n",
       "    <tr>\n",
       "      <th>2</th>\n",
       "      <td>KNNWithMeans</td>\n",
       "      <td>0.920777</td>\n",
       "      <td>0.705683</td>\n",
       "      <td>0.235047</td>\n",
       "      <td>2.114045</td>\n",
       "      <td>0.806334</td>\n",
       "      <td>0.394724</td>\n",
       "      <td>0.529998</td>\n",
       "      <td>0.956217</td>\n",
       "    </tr>\n",
       "  </tbody>\n",
       "</table>\n",
       "</div>"
      ],
      "text/plain": [
       "      Algorithm  test_rmse  test_mae    fit_time  test_time  Precision  \\\n",
       "3      KNNBasic   0.967357  0.744137    0.609963   2.771856   0.792226   \n",
       "0         SVDpp   0.894213  0.686454  669.893635  10.205841   0.827397   \n",
       "1           SVD   0.900438  0.694067    7.229630   0.195190   0.816592   \n",
       "2  KNNWithMeans   0.920777  0.705683    0.235047   2.114045   0.806334   \n",
       "\n",
       "     Recall  F-measure      NDCG  \n",
       "3  0.442964   0.568216  0.960785  \n",
       "0  0.403331   0.542305  0.962874  \n",
       "1  0.403079   0.539738  0.960958  \n",
       "2  0.394724   0.529998  0.956217  "
      ]
     },
     "execution_count": 22,
     "metadata": {},
     "output_type": "execute_result"
    }
   ],
   "source": [
    "surprise_df.sort_values(by='F-measure', ascending=False) "
   ]
  },
  {
   "cell_type": "code",
   "execution_count": 23,
   "metadata": {
    "colab": {
     "base_uri": "https://localhost:8080/",
     "height": 343
    },
    "colab_type": "code",
    "id": "HLfUTRr58pVP",
    "outputId": "6ffb6a07-fe46-45f7-a5b3-feeb4be835be"
   },
   "outputs": [
    {
     "data": {
      "text/html": [
       "<div>\n",
       "<style scoped>\n",
       "    .dataframe tbody tr th:only-of-type {\n",
       "        vertical-align: middle;\n",
       "    }\n",
       "\n",
       "    .dataframe tbody tr th {\n",
       "        vertical-align: top;\n",
       "    }\n",
       "\n",
       "    .dataframe thead th {\n",
       "        text-align: right;\n",
       "    }\n",
       "</style>\n",
       "<table border=\"1\" class=\"dataframe\">\n",
       "  <thead>\n",
       "    <tr style=\"text-align: right;\">\n",
       "      <th></th>\n",
       "      <th>Algorithm</th>\n",
       "      <th>test_rmse</th>\n",
       "      <th>test_mae</th>\n",
       "      <th>fit_time</th>\n",
       "      <th>test_time</th>\n",
       "      <th>Precision</th>\n",
       "      <th>Recall</th>\n",
       "      <th>F-measure</th>\n",
       "      <th>NDCG</th>\n",
       "    </tr>\n",
       "  </thead>\n",
       "  <tbody>\n",
       "    <tr>\n",
       "      <th>0</th>\n",
       "      <td>SVDpp</td>\n",
       "      <td>0.894213</td>\n",
       "      <td>0.686454</td>\n",
       "      <td>669.893635</td>\n",
       "      <td>10.205841</td>\n",
       "      <td>0.827397</td>\n",
       "      <td>0.403331</td>\n",
       "      <td>0.542305</td>\n",
       "      <td>0.962874</td>\n",
       "    </tr>\n",
       "    <tr>\n",
       "      <th>1</th>\n",
       "      <td>SVD</td>\n",
       "      <td>0.900438</td>\n",
       "      <td>0.694067</td>\n",
       "      <td>7.229630</td>\n",
       "      <td>0.195190</td>\n",
       "      <td>0.816592</td>\n",
       "      <td>0.403079</td>\n",
       "      <td>0.539738</td>\n",
       "      <td>0.960958</td>\n",
       "    </tr>\n",
       "    <tr>\n",
       "      <th>3</th>\n",
       "      <td>KNNBasic</td>\n",
       "      <td>0.967357</td>\n",
       "      <td>0.744137</td>\n",
       "      <td>0.609963</td>\n",
       "      <td>2.771856</td>\n",
       "      <td>0.792226</td>\n",
       "      <td>0.442964</td>\n",
       "      <td>0.568216</td>\n",
       "      <td>0.960785</td>\n",
       "    </tr>\n",
       "    <tr>\n",
       "      <th>2</th>\n",
       "      <td>KNNWithMeans</td>\n",
       "      <td>0.920777</td>\n",
       "      <td>0.705683</td>\n",
       "      <td>0.235047</td>\n",
       "      <td>2.114045</td>\n",
       "      <td>0.806334</td>\n",
       "      <td>0.394724</td>\n",
       "      <td>0.529998</td>\n",
       "      <td>0.956217</td>\n",
       "    </tr>\n",
       "  </tbody>\n",
       "</table>\n",
       "</div>"
      ],
      "text/plain": [
       "      Algorithm  test_rmse  test_mae    fit_time  test_time  Precision  \\\n",
       "0         SVDpp   0.894213  0.686454  669.893635  10.205841   0.827397   \n",
       "1           SVD   0.900438  0.694067    7.229630   0.195190   0.816592   \n",
       "3      KNNBasic   0.967357  0.744137    0.609963   2.771856   0.792226   \n",
       "2  KNNWithMeans   0.920777  0.705683    0.235047   2.114045   0.806334   \n",
       "\n",
       "     Recall  F-measure      NDCG  \n",
       "0  0.403331   0.542305  0.962874  \n",
       "1  0.403079   0.539738  0.960958  \n",
       "3  0.442964   0.568216  0.960785  \n",
       "2  0.394724   0.529998  0.956217  "
      ]
     },
     "execution_count": 23,
     "metadata": {},
     "output_type": "execute_result"
    }
   ],
   "source": [
    "surprise_df.sort_values(by='NDCG', ascending=False)"
   ]
  },
  {
   "cell_type": "code",
   "execution_count": 25,
   "metadata": {
    "colab": {},
    "colab_type": "code",
    "id": "W-Q4XlBGPTyo"
   },
   "outputs": [],
   "source": [
    "surprise_df.to_csv('../2_results/2_collab_filtering@surprise_recs_result.csv', index = False)"
   ]
  }
 ],
 "metadata": {
  "colab": {
   "collapsed_sections": [],
   "name": "surprise_model_recs.ipynb",
   "provenance": []
  },
  "kernelspec": {
   "display_name": "Python 3 (ipykernel)",
   "language": "python",
   "name": "python3"
  },
  "language_info": {
   "codemirror_mode": {
    "name": "ipython",
    "version": 3
   },
   "file_extension": ".py",
   "mimetype": "text/x-python",
   "name": "python",
   "nbconvert_exporter": "python",
   "pygments_lexer": "ipython3",
   "version": "3.8.13"
  },
  "vscode": {
   "interpreter": {
    "hash": "31f2aee4e71d21fbe5cf8b01ff0e069b9275f58929596ceb00d14d90e3e16cd6"
   }
  }
 },
 "nbformat": 4,
 "nbformat_minor": 1
}
