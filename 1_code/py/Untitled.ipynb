{
 "cells": [
  {
   "cell_type": "code",
   "execution_count": 2,
   "id": "96239881",
   "metadata": {},
   "outputs": [],
   "source": [
    "from surprise import SVD, SVDpp\n",
    "from surprise import Dataset, Reader\n",
    "from surprise.model_selection import cross_validate\n",
    "from surprise.prediction_algorithms import KNNBasic, KNNWithMeans\n",
    "from surprise import accuracy\n",
    "from surprise.model_selection import train_test_split\n",
    "\n",
    "import pandas as pd\n",
    "import numpy as np"
   ]
  },
  {
   "cell_type": "code",
   "execution_count": 3,
   "id": "c02fe50d",
   "metadata": {
    "scrolled": true
   },
   "outputs": [],
   "source": [
    "def convert_traintest_dataframe_forsurprise(training_dataframe, testing_dataframe):\n",
    "    reader = Reader(rating_scale=(0, 5))\n",
    "    trainset = Dataset.load_from_df(training_dataframe[['userId', 'tmdbId', 'rating']], reader)\n",
    "    testset = Dataset.load_from_df(testing_dataframe[['userId', 'tmdbId', 'rating']], reader)\n",
    "    trainset = trainset.construct_trainset(trainset.raw_ratings)\n",
    "    testset = testset.construct_testset(testset.raw_ratings)\n",
    "    return trainset, testset\n",
    "\n",
    "\n",
    "def recommendation(algo, trainset, testset):\n",
    "    # Train the algorithm on the trainset, and predict ratings for the testset\n",
    "    algo.fit(trainset)\n",
    "\n",
    "    # # Predictions on training set\n",
    "    # train_predictions = algo.test(trainset)\n",
    "    # train_rmse = accuracy.rmse(train_predictions)\n",
    "    # train_mae = accuracy.mae(train_predictions)\n",
    "\n",
    "    # Predictions on testing set\n",
    "    test_predictions = algo.test(testset)\n",
    "    test_rmse = accuracy.rmse(test_predictions)\n",
    "    test_mae = accuracy.mae(test_predictions)\n",
    "\n",
    "    return test_rmse, test_mae, test_predictions"
   ]
  },
  {
   "cell_type": "code",
   "execution_count": 4,
   "id": "d9067cee",
   "metadata": {
    "scrolled": true
   },
   "outputs": [
    {
     "name": "stdout",
     "output_type": "stream",
     "text": [
      "1\n",
      "Estimating biases using als...\n",
      "Computing the pearson_baseline similarity matrix...\n",
      "Done computing similarity matrix.\n",
      "RMSE: 0.9448\n",
      "MAE:  0.7159\n",
      "2\n",
      "Estimating biases using als...\n",
      "Computing the pearson_baseline similarity matrix...\n",
      "Done computing similarity matrix.\n",
      "RMSE: 0.9096\n",
      "MAE:  0.6920\n",
      "3\n",
      "RMSE: 0.9011\n",
      "MAE:  0.6951\n",
      "5\n"
     ]
    }
   ],
   "source": [
    "file_path_train = '/Users/nguyenhieu/Documents/GitHub/Movie-Recommendation-System/0_data/processed/training_data.csv'\n",
    "file_path_test = '/Users/nguyenhieu/Documents/GitHub/Movie-Recommendation-System/0_data/processed/testing_data.csv'\n",
    "\n",
    "traindf = pd.read_csv(file_path_train)\n",
    "testdf = pd.read_csv(file_path_test)\n",
    "trainset, testset = convert_traintest_dataframe_forsurprise(traindf, testdf)\n",
    "\n",
    "print(\"1\")\n",
    "sim_options = {'name': 'pearson_baseline',\n",
    "               'user_based': False  # compute  similarities between items\n",
    "               }\n",
    "algo = KNNBasic(sim_options=sim_options)\n",
    "test_knn_rmse, test_knn_mae, test_knn_pred = recommendation(algo, trainset, testset)\n",
    "\n",
    "print(\"2\")\n",
    "sim_options = {'name': 'pearson_baseline',\n",
    "               'user_based': False  # compute  similarities between items\n",
    "               }\n",
    "algo = KNNWithMeans(sim_options=sim_options)\n",
    "test_knnwm_rmse, test_knnwm_mae, test_knnwm_pred = recommendation(algo, trainset, testset)\n",
    "\n",
    "print(\"3\")\n",
    "# SVD\n",
    "algo = SVD()\n",
    "test_svd_rmse, test_svd_mae, test_svd_pred = recommendation(algo, trainset, testset)\n",
    "\n",
    "print(\"5\")\n",
    "test_pred_df = pd.DataFrame(\n",
    "    columns=['uid', 'iid', 'og_rating', 'svd_rating', 'knn_rating', 'svdpp_rating', 'slopeone_rating',\n",
    "             'baseline_rating'])\n",
    "test_svd_df = pd.DataFrame(\n",
    "    columns=['uid', 'iid', 'og_rating', 'est_rating'])\n",
    "test_knn_df = pd.DataFrame(\n",
    "    columns=['uid', 'iid', 'og_rating', 'est_rating'])\n",
    "test_knnwm_df = pd.DataFrame(\n",
    "    columns=['uid', 'iid', 'og_rating', 'est_rating'])"
   ]
  },
  {
   "cell_type": "code",
   "execution_count": 5,
   "id": "e8c005c7",
   "metadata": {},
   "outputs": [],
   "source": [
    "num_test = len(test_svd_pred)"
   ]
  },
  {
   "cell_type": "code",
   "execution_count": null,
   "id": "bf289181",
   "metadata": {},
   "outputs": [],
   "source": [
    "for i in range(num_test):\n",
    "    \n",
    "    svd = test_svd_pred[i]\n",
    "    knn = test_knn_pred[i]\n",
    "    knnwm = test_knnwm_pred[i]\n",
    "\n",
    "    df = pd.DataFrame([[svd.uid, svd.iid, svd.r_ui, svd.est, knn.est, knnwm.est]],\n",
    "                      columns=['uid', 'iid', 'og_rating', 'svd_rating', 'knn_rating', 'knnwm_rating'])\n",
    "\n",
    "#     df_svd = pd.DataFrame([[svd.uid, svd.iid, svd.r_ui, svd.est]],\n",
    "#                           columns=['uid', 'iid', 'og_rating', 'est_rating'])\n",
    "#     df_knn = pd.DataFrame([[svd.uid, svd.iid, svd.r_ui, knn.est]],\n",
    "#                            columns=['uid', 'iid', 'og_rating', 'est_rating'])\n",
    "#     df_knnwm = pd.DataFrame([[svd.uid, svd.iid, svd.r_ui, knnwm.est]],\n",
    "#                             columns=['uid', 'iid', 'og_rating', 'est_rating'])\n",
    "\n",
    "    test_pred_df = pd.concat([df, test_pred_df], ignore_index=True)\n",
    "#     test_svd_df = pd.concat([df_svd, test_svd_df], ignore_index=True)\n",
    "#     test_knn_df = pd.concat([df_knn, test_knn_df], ignore_index=True)\n",
    "#     test_knnwm_df = pd.concat([df_knnwm, test_knnwm_df], ignore_index=True)\n",
    "\n",
    "    i += 1\n",
    "\n",
    "print(\"6\")\n",
    "test_pred_df.to_csv('/Users/nguyenhieu/Documents/GitHub/Movie-Recommendation-System/2_results/test_prediction_HP.csv', index = False)\n",
    "# test_svd_df.to_csv('test_predictions_svd.csv')\n",
    "# test_svdpp_df.to_csv('test_predictions_svdpp.csv')\n",
    "# test_knn_df.to_csv('test_predictions_knn.csv')\n",
    "# test_knnwm_df.to_csv('test_predictions_knnwm.csv')"
   ]
  },
  {
   "cell_type": "code",
   "execution_count": null,
   "id": "d85def15",
   "metadata": {},
   "outputs": [],
   "source": []
  }
 ],
 "metadata": {
  "kernelspec": {
   "display_name": "Python 3 (ipykernel)",
   "language": "python",
   "name": "python3"
  },
  "language_info": {
   "codemirror_mode": {
    "name": "ipython",
    "version": 3
   },
   "file_extension": ".py",
   "mimetype": "text/x-python",
   "name": "python",
   "nbconvert_exporter": "python",
   "pygments_lexer": "ipython3",
   "version": "3.8.13"
  }
 },
 "nbformat": 4,
 "nbformat_minor": 5
}
