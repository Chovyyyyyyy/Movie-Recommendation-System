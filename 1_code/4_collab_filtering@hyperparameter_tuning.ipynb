{
 "cells": [
  {
   "cell_type": "markdown",
   "metadata": {
    "id": "41QFSJekPTj_"
   },
   "source": [
    "This notebook experiments with the various hyperparamters in the models using surprise library and also compares the different models based on RMSE and MAE."
   ]
  },
  {
   "cell_type": "code",
   "execution_count": 1,
   "metadata": {
    "colab": {
     "base_uri": "https://localhost:8080/"
    },
    "id": "F81mryVP5vk3",
    "outputId": "de2fc452-7cca-43a3-9310-bbb6a9d76564"
   },
   "outputs": [
    {
     "name": "stdout",
     "output_type": "stream",
     "text": [
      "Looking in indexes: https://pypi.org/simple, https://us-python.pkg.dev/colab-wheels/public/simple/\n",
      "Collecting surprise\n",
      "  Downloading surprise-0.1-py2.py3-none-any.whl (1.8 kB)\n",
      "Collecting scikit-surprise\n",
      "  Downloading scikit-surprise-1.1.1.tar.gz (11.8 MB)\n",
      "\u001b[K     |████████████████████████████████| 11.8 MB 12.2 MB/s \n",
      "\u001b[?25hRequirement already satisfied: joblib>=0.11 in /usr/local/lib/python3.7/dist-packages (from scikit-surprise->surprise) (1.1.0)\n",
      "Requirement already satisfied: numpy>=1.11.2 in /usr/local/lib/python3.7/dist-packages (from scikit-surprise->surprise) (1.21.6)\n",
      "Requirement already satisfied: scipy>=1.0.0 in /usr/local/lib/python3.7/dist-packages (from scikit-surprise->surprise) (1.7.3)\n",
      "Requirement already satisfied: six>=1.10.0 in /usr/local/lib/python3.7/dist-packages (from scikit-surprise->surprise) (1.15.0)\n",
      "Building wheels for collected packages: scikit-surprise\n",
      "  Building wheel for scikit-surprise (setup.py) ... \u001b[?25l\u001b[?25hdone\n",
      "  Created wheel for scikit-surprise: filename=scikit_surprise-1.1.1-cp37-cp37m-linux_x86_64.whl size=1633743 sha256=c54dae6e734f00af750b2cd69071f890bb0b0dca1623057e7e4ca0759dc85288\n",
      "  Stored in directory: /root/.cache/pip/wheels/76/44/74/b498c42be47b2406bd27994e16c5188e337c657025ab400c1c\n",
      "Successfully built scikit-surprise\n",
      "Installing collected packages: scikit-surprise, surprise\n",
      "Successfully installed scikit-surprise-1.1.1 surprise-0.1\n"
     ]
    }
   ],
   "source": [
    "!pip install surprise"
   ]
  },
  {
   "cell_type": "code",
   "execution_count": 2,
   "metadata": {
    "id": "J9FfIKsk0bDJ"
   },
   "outputs": [],
   "source": [
    "from surprise import SVD, SVDpp\n",
    "from surprise import Dataset, Reader\n",
    "from surprise.model_selection import cross_validate\n",
    "from surprise.prediction_algorithms import KNNBasic, KNNWithMeans\n",
    "from surprise import accuracy\n",
    "from surprise.model_selection import train_test_split"
   ]
  },
  {
   "cell_type": "code",
   "execution_count": 3,
   "metadata": {
    "id": "qzPfL9uJ-smh"
   },
   "outputs": [],
   "source": [
    "import time\n",
    "import pandas as pd"
   ]
  },
  {
   "cell_type": "code",
   "execution_count": 16,
   "metadata": {
    "id": "7S7WjJI-5rzR"
   },
   "outputs": [],
   "source": [
    "file_path_train = '../0_data/processed/training_data.csv'\n",
    "file_path_test = '../0_data/processed/testing_data.csv'\n",
    "traindf = pd.read_csv(file_path_train)\n",
    "testdf = pd.read_csv(file_path_test)"
   ]
  },
  {
   "cell_type": "code",
   "execution_count": 14,
   "metadata": {
    "id": "LA-tEMJx765F"
   },
   "outputs": [],
   "source": [
    "reader = Reader(rating_scale=(0, 5))\n",
    "trainset = Dataset.load_from_df(traindf[['userId', 'tmdbId', 'rating']], reader = reader)"
   ]
  },
  {
   "cell_type": "code",
   "execution_count": 17,
   "metadata": {
    "id": "sz5zJS6P-A_B"
   },
   "outputs": [],
   "source": [
    "fulldf = pd.read_csv('/content/ratings.csv')"
   ]
  },
  {
   "cell_type": "code",
   "execution_count": 18,
   "metadata": {
    "id": "3IK4GG3B9-wn"
   },
   "outputs": [],
   "source": [
    "fullset = Dataset.load_from_df(traindf[['userId', 'tmdbId', 'rating']], reader = reader)"
   ]
  },
  {
   "cell_type": "markdown",
   "metadata": {
    "id": "QwoGEfOHqXdw"
   },
   "source": [
    "##### Fine Tuning Hyperparameters:"
   ]
  },
  {
   "cell_type": "code",
   "execution_count": 6,
   "metadata": {
    "id": "KuTTB-6Th8ZN"
   },
   "outputs": [],
   "source": [
    "from surprise import NormalPredictor\n",
    "from surprise.model_selection import RandomizedSearchCV, GridSearchCV"
   ]
  },
  {
   "cell_type": "markdown",
   "metadata": {
    "id": "Ak6x0HAsfb6R"
   },
   "source": [
    "1. SVD and SVDpp"
   ]
  },
  {
   "cell_type": "markdown",
   "metadata": {
    "id": "pkJfvwIa-6eJ"
   },
   "source": [
    "n_factors 100 n_epochs 20 lr_all 0.005 reg_all 0.02"
   ]
  },
  {
   "cell_type": "code",
   "execution_count": 25,
   "metadata": {
    "colab": {
     "base_uri": "https://localhost:8080/"
    },
    "id": "r2Du_vazqe9O",
    "outputId": "9ba7de5d-576f-4d26-c9ab-aadc3fda2846"
   },
   "outputs": [
    {
     "name": "stdout",
     "output_type": "stream",
     "text": [
      "0.8979948215616099\n",
      "0.6926255069801748\n",
      "{'n_factors': 25, 'n_epochs': 10, 'lr_all': 0.01, 'reg_all': 0.02}\n"
     ]
    }
   ],
   "source": [
    "param_grid = {'n_factors':[25,50,100], 'n_epochs': [5, 10, 20], 'lr_all': [0.005, 0.01, 0.02], 'reg_all': [0.01,0.02]}\n",
    "gs = RandomizedSearchCV(SVD, param_grid, measures=['rmse', 'mae'], cv=5)\n",
    "\n",
    "gs.fit(trainset)\n",
    "\n",
    "# best RMSE & MAE score\n",
    "print(gs.best_score['rmse'])\n",
    "print(gs.best_score['mae'])\n",
    "\n",
    "# combination of parameters that gave the best RMSE score\n",
    "print(gs.best_params['rmse'])"
   ]
  },
  {
   "cell_type": "markdown",
   "metadata": {
    "id": "htrw8vQwO2LM"
   },
   "source": [
    "2. Chaning number of neighbors for KNN"
   ]
  },
  {
   "cell_type": "code",
   "execution_count": 9,
   "metadata": {
    "id": "2trtAAQ7t1mt"
   },
   "outputs": [],
   "source": [
    "from surprise.model_selection import GridSearchCV"
   ]
  },
  {
   "cell_type": "code",
   "execution_count": 28,
   "metadata": {
    "id": "yGyBcbEnOeyf"
   },
   "outputs": [],
   "source": [
    "param_grid = {'k': [15, 20, 25, 30, 40, 50, 60]}\n",
    "\n",
    "knnbasic_gs = GridSearchCV(KNNBasic, param_grid, measures=['rmse', 'mae'], cv=5, n_jobs=5)\n",
    "knnbasic_gs.fit(trainset)\n",
    "\n",
    "knnmeans_gs = GridSearchCV(KNNWithMeans, param_grid, measures=['rmse', 'mae'], cv=5, n_jobs=5)\n",
    "knnmeans_gs.fit(trainset)"
   ]
  },
  {
   "cell_type": "code",
   "execution_count": 29,
   "metadata": {
    "id": "5sn2TVf_Oudr"
   },
   "outputs": [],
   "source": [
    "x = [15, 20, 25, 30, 40, 50, 60]\n",
    "y1 = knnbasic_gs.cv_results['mean_test_rmse']\n",
    "y2 = knnbasic_gs.cv_results['mean_test_mae']\n",
    "\n",
    "y3 = knnmeans_gs.cv_results['mean_test_rmse']\n",
    "y4 = knnmeans_gs.cv_results['mean_test_mae']"
   ]
  },
  {
   "cell_type": "code",
   "execution_count": 30,
   "metadata": {
    "id": "OT1X7WNxJJ4p"
   },
   "outputs": [],
   "source": [
    "import matplotlib.pyplot as plt"
   ]
  },
  {
   "cell_type": "code",
   "execution_count": 31,
   "metadata": {
    "colab": {
     "base_uri": "https://localhost:8080/",
     "height": 357
    },
    "id": "EGpT1pg9PEQE",
    "outputId": "d3a17199-ee82-427e-c954-5207670d328a"
   },
   "outputs": [
    {
     "data": {
      "image/png": "[encoded data removed]",
      "text/plain": [
       "<Figure size 1296x360 with 2 Axes>"
      ]
     },
     "metadata": {
      "needs_background": "light"
     },
     "output_type": "display_data"
    }
   ],
   "source": [
    "plt.figure(figsize=(18,5))\n",
    "\n",
    "plt.subplot(1, 2, 1)\n",
    "plt.title('K Neighbors vs RMSE', loc='center', fontsize=15)\n",
    "plt.plot(x, y1, label='KNNBasic', color='lightcoral', marker='o')\n",
    "plt.plot(x, y3, label='KNNWithMeans', color='darkred', marker='o')\n",
    "plt.xlabel('K Neighbor', fontsize=15)\n",
    "plt.ylabel('RMSE Value', fontsize=15)\n",
    "plt.legend()\n",
    "plt.grid(ls='dotted')\n",
    "\n",
    "plt.subplot(1, 2, 2)\n",
    "plt.title('K Neighbors vs MAE', loc='center', fontsize=15)\n",
    "plt.plot(x, y2, label='KNNBasic', color='lightcoral', marker='o')\n",
    "plt.plot(x, y4, label='KNNWithMeans', color='indianred', marker='o')\n",
    "plt.xlabel('K Neighbor', fontsize=15)\n",
    "plt.ylabel('MAE Value', fontsize=15)\n",
    "plt.legend()\n",
    "plt.grid(ls='dotted')\n",
    "\n",
    "plt.show()"
   ]
  }
 ],
 "metadata": {
  "accelerator": "GPU",
  "colab": {
   "collapsed_sections": [],
   "name": "4_collab_filtering@hyperparameter_tuning.ipynb",
   "provenance": []
  },
  "gpuClass": "standard",
  "kernelspec": {
   "display_name": "Python 3 (ipykernel)",
   "language": "python",
   "name": "python3"
  },
  "language_info": {
   "codemirror_mode": {
    "name": "ipython",
    "version": 3
   },
   "file_extension": ".py",
   "mimetype": "text/x-python",
   "name": "python",
   "nbconvert_exporter": "python",
   "pygments_lexer": "ipython3",
   "version": "3.8.13"
  }
 },
 "nbformat": 4,
 "nbformat_minor": 4
}
