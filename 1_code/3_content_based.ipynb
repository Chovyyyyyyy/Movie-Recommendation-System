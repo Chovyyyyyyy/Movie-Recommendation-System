{
 "cells": [
  {
   "cell_type": "markdown",
   "metadata": {
    "colab_type": "text",
    "id": "pEDQblEbFMFP"
   },
   "source": [
    "This method explores the genre and rating associated with the movie and the customer to develop customer vector based on the content. The recommendations are generated using this customer vector."
   ]
  },
  {
   "cell_type": "markdown",
   "metadata": {},
   "source": [
    "# Split data"
   ]
  },
  {
   "cell_type": "code",
   "execution_count": 1,
   "metadata": {
    "colab": {},
    "colab_type": "code",
    "id": "3EdPIM8gE75h",
    "scrolled": true
   },
   "outputs": [],
   "source": [
    "import numpy as np\n",
    "import pandas as pd\n",
    "import matplotlib.pyplot as plt\n",
    "from ast import literal_eval"
   ]
  },
  {
   "cell_type": "code",
   "execution_count": 2,
   "metadata": {
    "colab": {},
    "colab_type": "code",
    "id": "-0I2fW5_E75j"
   },
   "outputs": [],
   "source": [
    "# Load movies data\n",
    "movies = pd.read_csv('../0_data/input/movies.csv', converters={\"genres\": literal_eval})\n",
    "ratings = pd.read_csv('../0_data/input/ratings.csv')"
   ]
  },
  {
   "cell_type": "code",
   "execution_count": 3,
   "metadata": {
    "scrolled": true
   },
   "outputs": [],
   "source": [
    "df = pd.merge(ratings, movies, on = 'tmdbId' , how = 'left')\n",
    "df = df.drop('original_title', axis = 1)"
   ]
  },
  {
   "cell_type": "code",
   "execution_count": 8,
   "metadata": {},
   "outputs": [],
   "source": [
    "# Split dataset\n",
    "from sklearn.model_selection import train_test_split\n",
    "train_data, test_data = train_test_split(df, test_size=0.2, stratify=df.userId)"
   ]
  },
  {
   "cell_type": "code",
   "execution_count": 10,
   "metadata": {},
   "outputs": [
    {
     "data": {
      "text/html": [
       "<div>\n",
       "<style scoped>\n",
       "    .dataframe tbody tr th:only-of-type {\n",
       "        vertical-align: middle;\n",
       "    }\n",
       "\n",
       "    .dataframe tbody tr th {\n",
       "        vertical-align: top;\n",
       "    }\n",
       "\n",
       "    .dataframe thead th {\n",
       "        text-align: right;\n",
       "    }\n",
       "</style>\n",
       "<table border=\"1\" class=\"dataframe\">\n",
       "  <thead>\n",
       "    <tr style=\"text-align: right;\">\n",
       "      <th></th>\n",
       "      <th>userId</th>\n",
       "      <th>tmdbId</th>\n",
       "      <th>rating</th>\n",
       "      <th>timestamp</th>\n",
       "      <th>genres</th>\n",
       "    </tr>\n",
       "  </thead>\n",
       "  <tbody>\n",
       "    <tr>\n",
       "      <th>581</th>\n",
       "      <td>1</td>\n",
       "      <td>97</td>\n",
       "      <td>4.0</td>\n",
       "      <td>1260759139</td>\n",
       "      <td>[Science Fiction, Action, Adventure]</td>\n",
       "    </tr>\n",
       "    <tr>\n",
       "      <th>442</th>\n",
       "      <td>1</td>\n",
       "      <td>152</td>\n",
       "      <td>2.5</td>\n",
       "      <td>1260759135</td>\n",
       "      <td>[Science Fiction, Adventure, Mystery]</td>\n",
       "    </tr>\n",
       "    <tr>\n",
       "      <th>259</th>\n",
       "      <td>1</td>\n",
       "      <td>665</td>\n",
       "      <td>2.0</td>\n",
       "      <td>1260759187</td>\n",
       "      <td>[Action, Adventure, Drama, History]</td>\n",
       "    </tr>\n",
       "    <tr>\n",
       "      <th>84</th>\n",
       "      <td>1</td>\n",
       "      <td>819</td>\n",
       "      <td>3.0</td>\n",
       "      <td>1260759182</td>\n",
       "      <td>[Crime, Drama, Thriller]</td>\n",
       "    </tr>\n",
       "    <tr>\n",
       "      <th>535</th>\n",
       "      <td>1</td>\n",
       "      <td>1051</td>\n",
       "      <td>4.0</td>\n",
       "      <td>1260759191</td>\n",
       "      <td>[Action, Crime, Thriller]</td>\n",
       "    </tr>\n",
       "  </tbody>\n",
       "</table>\n",
       "</div>"
      ],
      "text/plain": [
       "     userId  tmdbId  rating   timestamp                                 genres\n",
       "581       1      97     4.0  1260759139   [Science Fiction, Action, Adventure]\n",
       "442       1     152     2.5  1260759135  [Science Fiction, Adventure, Mystery]\n",
       "259       1     665     2.0  1260759187    [Action, Adventure, Drama, History]\n",
       "84        1     819     3.0  1260759182               [Crime, Drama, Thriller]\n",
       "535       1    1051     4.0  1260759191              [Action, Crime, Thriller]"
      ]
     },
     "execution_count": 10,
     "metadata": {},
     "output_type": "execute_result"
    }
   ],
   "source": [
    "train_data = train_data.sort_values(['userId', 'tmdbId'])\n",
    "train_data.head()"
   ]
  },
  {
   "cell_type": "code",
   "execution_count": 11,
   "metadata": {},
   "outputs": [
    {
     "data": {
      "text/html": [
       "<div>\n",
       "<style scoped>\n",
       "    .dataframe tbody tr th:only-of-type {\n",
       "        vertical-align: middle;\n",
       "    }\n",
       "\n",
       "    .dataframe tbody tr th {\n",
       "        vertical-align: top;\n",
       "    }\n",
       "\n",
       "    .dataframe thead th {\n",
       "        text-align: right;\n",
       "    }\n",
       "</style>\n",
       "<table border=\"1\" class=\"dataframe\">\n",
       "  <thead>\n",
       "    <tr style=\"text-align: right;\">\n",
       "      <th></th>\n",
       "      <th>userId</th>\n",
       "      <th>tmdbId</th>\n",
       "      <th>rating</th>\n",
       "      <th>timestamp</th>\n",
       "      <th>genres</th>\n",
       "    </tr>\n",
       "  </thead>\n",
       "  <tbody>\n",
       "    <tr>\n",
       "      <th>305</th>\n",
       "      <td>1</td>\n",
       "      <td>783</td>\n",
       "      <td>2.0</td>\n",
       "      <td>1260759148</td>\n",
       "      <td>[Drama, History]</td>\n",
       "    </tr>\n",
       "    <tr>\n",
       "      <th>664</th>\n",
       "      <td>1</td>\n",
       "      <td>847</td>\n",
       "      <td>2.0</td>\n",
       "      <td>1260759198</td>\n",
       "      <td>[Adventure, Drama, Action]</td>\n",
       "    </tr>\n",
       "    <tr>\n",
       "      <th>117</th>\n",
       "      <td>1</td>\n",
       "      <td>1103</td>\n",
       "      <td>2.0</td>\n",
       "      <td>1260759185</td>\n",
       "      <td>[Science Fiction, Action]</td>\n",
       "    </tr>\n",
       "    <tr>\n",
       "      <th>849</th>\n",
       "      <td>1</td>\n",
       "      <td>11072</td>\n",
       "      <td>3.0</td>\n",
       "      <td>1260759117</td>\n",
       "      <td>[Western, Comedy]</td>\n",
       "    </tr>\n",
       "    <tr>\n",
       "      <th>8371</th>\n",
       "      <td>2</td>\n",
       "      <td>268</td>\n",
       "      <td>5.0</td>\n",
       "      <td>835355395</td>\n",
       "      <td>[Fantasy, Action]</td>\n",
       "    </tr>\n",
       "  </tbody>\n",
       "</table>\n",
       "</div>"
      ],
      "text/plain": [
       "      userId  tmdbId  rating   timestamp                      genres\n",
       "305        1     783     2.0  1260759148            [Drama, History]\n",
       "664        1     847     2.0  1260759198  [Adventure, Drama, Action]\n",
       "117        1    1103     2.0  1260759185   [Science Fiction, Action]\n",
       "849        1   11072     3.0  1260759117           [Western, Comedy]\n",
       "8371       2     268     5.0   835355395           [Fantasy, Action]"
      ]
     },
     "execution_count": 11,
     "metadata": {},
     "output_type": "execute_result"
    }
   ],
   "source": [
    "test_data = test_data.sort_values(['userId','tmdbId'])\n",
    "test_data.head()"
   ]
  },
  {
   "cell_type": "code",
   "execution_count": 12,
   "metadata": {},
   "outputs": [],
   "source": [
    "# train_data.to_csv('../0_data/processed/training_data.csv', index = False)\n",
    "# test_data.to_csv('../0_data/processed/testing_data.csv', index = False)"
   ]
  },
  {
   "cell_type": "markdown",
   "metadata": {},
   "source": [
    "# Content-based Filtering"
   ]
  },
  {
   "cell_type": "code",
   "execution_count": 15,
   "metadata": {
    "colab": {},
    "colab_type": "code",
    "id": "DMKuwncvE75m"
   },
   "outputs": [
    {
     "data": {
      "text/html": [
       "<div>\n",
       "<style scoped>\n",
       "    .dataframe tbody tr th:only-of-type {\n",
       "        vertical-align: middle;\n",
       "    }\n",
       "\n",
       "    .dataframe tbody tr th {\n",
       "        vertical-align: top;\n",
       "    }\n",
       "\n",
       "    .dataframe thead th {\n",
       "        text-align: right;\n",
       "    }\n",
       "</style>\n",
       "<table border=\"1\" class=\"dataframe\">\n",
       "  <thead>\n",
       "    <tr style=\"text-align: right;\">\n",
       "      <th></th>\n",
       "      <th>userId</th>\n",
       "      <th>tmdbId</th>\n",
       "      <th>rating</th>\n",
       "      <th>timestamp</th>\n",
       "      <th>genres</th>\n",
       "    </tr>\n",
       "  </thead>\n",
       "  <tbody>\n",
       "    <tr>\n",
       "      <th>581</th>\n",
       "      <td>1</td>\n",
       "      <td>97</td>\n",
       "      <td>4.0</td>\n",
       "      <td>1260759139</td>\n",
       "      <td>[Science Fiction, Action, Adventure]</td>\n",
       "    </tr>\n",
       "    <tr>\n",
       "      <th>442</th>\n",
       "      <td>1</td>\n",
       "      <td>152</td>\n",
       "      <td>2.5</td>\n",
       "      <td>1260759135</td>\n",
       "      <td>[Science Fiction, Adventure, Mystery]</td>\n",
       "    </tr>\n",
       "    <tr>\n",
       "      <th>259</th>\n",
       "      <td>1</td>\n",
       "      <td>665</td>\n",
       "      <td>2.0</td>\n",
       "      <td>1260759187</td>\n",
       "      <td>[Action, Adventure, Drama, History]</td>\n",
       "    </tr>\n",
       "    <tr>\n",
       "      <th>84</th>\n",
       "      <td>1</td>\n",
       "      <td>819</td>\n",
       "      <td>3.0</td>\n",
       "      <td>1260759182</td>\n",
       "      <td>[Crime, Drama, Thriller]</td>\n",
       "    </tr>\n",
       "    <tr>\n",
       "      <th>535</th>\n",
       "      <td>1</td>\n",
       "      <td>1051</td>\n",
       "      <td>4.0</td>\n",
       "      <td>1260759191</td>\n",
       "      <td>[Action, Crime, Thriller]</td>\n",
       "    </tr>\n",
       "  </tbody>\n",
       "</table>\n",
       "</div>"
      ],
      "text/plain": [
       "     userId  tmdbId  rating   timestamp                                 genres\n",
       "581       1      97     4.0  1260759139   [Science Fiction, Action, Adventure]\n",
       "442       1     152     2.5  1260759135  [Science Fiction, Adventure, Mystery]\n",
       "259       1     665     2.0  1260759187    [Action, Adventure, Drama, History]\n",
       "84        1     819     3.0  1260759182               [Crime, Drama, Thriller]\n",
       "535       1    1051     4.0  1260759191              [Action, Crime, Thriller]"
      ]
     },
     "execution_count": 15,
     "metadata": {},
     "output_type": "execute_result"
    }
   ],
   "source": [
    "ratings_train = train_data.copy()\n",
    "ratings_train.head()"
   ]
  },
  {
   "cell_type": "code",
   "execution_count": 16,
   "metadata": {
    "colab": {},
    "colab_type": "code",
    "id": "pCjakau0E75o",
    "outputId": "c3abde85-c349-4726-db4a-87a2ac8ba259",
    "scrolled": true
   },
   "outputs": [
    {
     "data": {
      "text/plain": [
       "{'Animation': 0,\n",
       " 'Comedy': 1,\n",
       " 'Family': 2,\n",
       " 'Adventure': 3,\n",
       " 'Fantasy': 4,\n",
       " 'Romance': 5,\n",
       " 'Drama': 6,\n",
       " 'Action': 7,\n",
       " 'Crime': 8,\n",
       " 'Thriller': 9,\n",
       " 'Horror': 10,\n",
       " 'History': 11,\n",
       " 'Science Fiction': 12,\n",
       " 'Mystery': 13,\n",
       " 'War': 14,\n",
       " 'Foreign': 15,\n",
       " nan: 16,\n",
       " 'Music': 17,\n",
       " 'Documentary': 18,\n",
       " 'Western': 19,\n",
       " 'TV Movie': 20}"
      ]
     },
     "execution_count": 16,
     "metadata": {},
     "output_type": "execute_result"
    }
   ],
   "source": [
    "# Get unique genres from the data\n",
    "unique_genre = movies['genres'].explode().unique()\n",
    "\n",
    "# Make a dict assigning an index to a genre\n",
    "genre_dict = {k: v for v, k in enumerate(unique_genre)}\n",
    "genre_dict"
   ]
  },
  {
   "cell_type": "code",
   "execution_count": 17,
   "metadata": {
    "scrolled": true
   },
   "outputs": [
    {
     "name": "stdout",
     "output_type": "stream",
     "text": [
      "{'Drama': 37772, 'Comedy': 28551, 'Action': 20595, 'Thriller': 20542, 'Adventure': 17511, 'Romance': 14995, 'Crime': 14056, 'Science Fiction': 12198, 'Fantasy': 10010, 'Family': 9525, 'Mystery': 7033, 'Animation': 4905, 'Horror': 4893, 'History': 3212, 'Music': 3104, 'War': 3038, 'Western': 1290, 'Documentary': 1183, 'Foreign': 161, 'TV Movie': 45}\n"
     ]
    },
    {
     "data": {
      "text/html": [
       "<div>\n",
       "<style scoped>\n",
       "    .dataframe tbody tr th:only-of-type {\n",
       "        vertical-align: middle;\n",
       "    }\n",
       "\n",
       "    .dataframe tbody tr th {\n",
       "        vertical-align: top;\n",
       "    }\n",
       "\n",
       "    .dataframe thead th {\n",
       "        text-align: right;\n",
       "    }\n",
       "</style>\n",
       "<table border=\"1\" class=\"dataframe\">\n",
       "  <thead>\n",
       "    <tr style=\"text-align: right;\">\n",
       "      <th></th>\n",
       "      <th>0</th>\n",
       "    </tr>\n",
       "  </thead>\n",
       "  <tbody>\n",
       "    <tr>\n",
       "      <th>Drama</th>\n",
       "      <td>37772</td>\n",
       "    </tr>\n",
       "    <tr>\n",
       "      <th>Comedy</th>\n",
       "      <td>28551</td>\n",
       "    </tr>\n",
       "    <tr>\n",
       "      <th>Action</th>\n",
       "      <td>20595</td>\n",
       "    </tr>\n",
       "    <tr>\n",
       "      <th>Thriller</th>\n",
       "      <td>20542</td>\n",
       "    </tr>\n",
       "    <tr>\n",
       "      <th>Adventure</th>\n",
       "      <td>17511</td>\n",
       "    </tr>\n",
       "    <tr>\n",
       "      <th>Romance</th>\n",
       "      <td>14995</td>\n",
       "    </tr>\n",
       "    <tr>\n",
       "      <th>Crime</th>\n",
       "      <td>14056</td>\n",
       "    </tr>\n",
       "    <tr>\n",
       "      <th>Science Fiction</th>\n",
       "      <td>12198</td>\n",
       "    </tr>\n",
       "    <tr>\n",
       "      <th>Fantasy</th>\n",
       "      <td>10010</td>\n",
       "    </tr>\n",
       "    <tr>\n",
       "      <th>Family</th>\n",
       "      <td>9525</td>\n",
       "    </tr>\n",
       "    <tr>\n",
       "      <th>Mystery</th>\n",
       "      <td>7033</td>\n",
       "    </tr>\n",
       "    <tr>\n",
       "      <th>Animation</th>\n",
       "      <td>4905</td>\n",
       "    </tr>\n",
       "    <tr>\n",
       "      <th>Horror</th>\n",
       "      <td>4893</td>\n",
       "    </tr>\n",
       "    <tr>\n",
       "      <th>History</th>\n",
       "      <td>3212</td>\n",
       "    </tr>\n",
       "    <tr>\n",
       "      <th>Music</th>\n",
       "      <td>3104</td>\n",
       "    </tr>\n",
       "    <tr>\n",
       "      <th>War</th>\n",
       "      <td>3038</td>\n",
       "    </tr>\n",
       "    <tr>\n",
       "      <th>Western</th>\n",
       "      <td>1290</td>\n",
       "    </tr>\n",
       "    <tr>\n",
       "      <th>Documentary</th>\n",
       "      <td>1183</td>\n",
       "    </tr>\n",
       "    <tr>\n",
       "      <th>Foreign</th>\n",
       "      <td>161</td>\n",
       "    </tr>\n",
       "    <tr>\n",
       "      <th>TV Movie</th>\n",
       "      <td>45</td>\n",
       "    </tr>\n",
       "  </tbody>\n",
       "</table>\n",
       "</div>"
      ],
      "text/plain": [
       "                     0\n",
       "Drama            37772\n",
       "Comedy           28551\n",
       "Action           20595\n",
       "Thriller         20542\n",
       "Adventure        17511\n",
       "Romance          14995\n",
       "Crime            14056\n",
       "Science Fiction  12198\n",
       "Fantasy          10010\n",
       "Family            9525\n",
       "Mystery           7033\n",
       "Animation         4905\n",
       "Horror            4893\n",
       "History           3212\n",
       "Music             3104\n",
       "War               3038\n",
       "Western           1290\n",
       "Documentary       1183\n",
       "Foreign            161\n",
       "TV Movie            45"
      ]
     },
     "execution_count": 17,
     "metadata": {},
     "output_type": "execute_result"
    }
   ],
   "source": [
    "# Get the count of each genre\n",
    "\n",
    "k = ratings_train['genres'].explode().value_counts().to_dict()\n",
    "print(k)\n",
    "genre_distribution = pd.DataFrame.from_dict(k, orient='index')\n",
    "genre_distribution"
   ]
  },
  {
   "cell_type": "code",
   "execution_count": 18,
   "metadata": {
    "colab": {},
    "colab_type": "code",
    "id": "0HXrmzdaE75r",
    "outputId": "b398e82a-6484-4834-e85a-a0d76bee07e6"
   },
   "outputs": [
    {
     "data": {
      "image/png": "[encoded data removed]",
      "text/plain": [
       "<Figure size 1080x432 with 1 Axes>"
      ]
     },
     "metadata": {},
     "output_type": "display_data"
    }
   ],
   "source": [
    "labelss = list(k.keys())\n",
    "values = list(k.values())\n",
    "\n",
    "def my_autopct(pct):\n",
    "    return ('%.0f%%' % pct) if pct > 1 else ''\n",
    "\n",
    "fig, ax = plt.subplots(figsize=(15, 6), subplot_kw=dict(aspect=\"equal\"))\n",
    "\n",
    "pie, texts, autotexts = ax.pie(values, startangle=90, autopct=my_autopct, pctdistance=1.1)\n",
    "\n",
    "ax.legend(pie,\n",
    "          labelss,\n",
    "          bbox_to_anchor=(1, 0, 0.5, 1),\n",
    "          loc=\"center right\",\n",
    "          fontsize=10)\n",
    "\n",
    "plt.setp(autotexts, size=10)\n",
    "\n",
    "ax.set_title(\"Genre distribution\")\n",
    "\n",
    "plt.show()"
   ]
  },
  {
   "cell_type": "code",
   "execution_count": 19,
   "metadata": {
    "colab": {},
    "colab_type": "code",
    "id": "_G9Om5kLE75y"
   },
   "outputs": [],
   "source": [
    "movies['movie_vector'] = \"\"\n",
    "for ind, row in movies.iterrows():\n",
    "    genres = row.genres\n",
    "    movie_vector = np.zeros(len(genre_dict))\n",
    "\n",
    "    for g in genres:\n",
    "        movie_vector[genre_dict[g]] = 1\n",
    "    movies.at[ind, 'movie_vector'] = movie_vector\n",
    "\n",
    "# Save the final dataframe\n",
    "movies.to_csv(\"../0_data/processed/movie_vector.csv\")"
   ]
  },
  {
   "cell_type": "code",
   "execution_count": 20,
   "metadata": {
    "colab": {},
    "colab_type": "code",
    "id": "noGaua-YE750",
    "outputId": "32a50a7c-3551-444a-bbd0-93b90a0da6dd",
    "scrolled": true
   },
   "outputs": [
    {
     "data": {
      "text/html": [
       "<div>\n",
       "<style scoped>\n",
       "    .dataframe tbody tr th:only-of-type {\n",
       "        vertical-align: middle;\n",
       "    }\n",
       "\n",
       "    .dataframe tbody tr th {\n",
       "        vertical-align: top;\n",
       "    }\n",
       "\n",
       "    .dataframe thead th {\n",
       "        text-align: right;\n",
       "    }\n",
       "</style>\n",
       "<table border=\"1\" class=\"dataframe\">\n",
       "  <thead>\n",
       "    <tr style=\"text-align: right;\">\n",
       "      <th></th>\n",
       "      <th>tmdbId</th>\n",
       "      <th>original_title</th>\n",
       "      <th>genres</th>\n",
       "      <th>movie_vector</th>\n",
       "    </tr>\n",
       "  </thead>\n",
       "  <tbody>\n",
       "    <tr>\n",
       "      <th>0</th>\n",
       "      <td>862</td>\n",
       "      <td>Toy Story</td>\n",
       "      <td>[Animation, Comedy, Family]</td>\n",
       "      <td>[1.0, 1.0, 1.0, 0.0, 0.0, 0.0, 0.0, 0.0, 0.0, ...</td>\n",
       "    </tr>\n",
       "    <tr>\n",
       "      <th>1</th>\n",
       "      <td>8844</td>\n",
       "      <td>Jumanji</td>\n",
       "      <td>[Adventure, Fantasy, Family]</td>\n",
       "      <td>[0.0, 0.0, 1.0, 1.0, 1.0, 0.0, 0.0, 0.0, 0.0, ...</td>\n",
       "    </tr>\n",
       "    <tr>\n",
       "      <th>2</th>\n",
       "      <td>15602</td>\n",
       "      <td>Grumpier Old Men</td>\n",
       "      <td>[Romance, Comedy]</td>\n",
       "      <td>[0.0, 1.0, 0.0, 0.0, 0.0, 1.0, 0.0, 0.0, 0.0, ...</td>\n",
       "    </tr>\n",
       "    <tr>\n",
       "      <th>3</th>\n",
       "      <td>31357</td>\n",
       "      <td>Waiting to Exhale</td>\n",
       "      <td>[Comedy, Drama, Romance]</td>\n",
       "      <td>[0.0, 1.0, 0.0, 0.0, 0.0, 1.0, 1.0, 0.0, 0.0, ...</td>\n",
       "    </tr>\n",
       "    <tr>\n",
       "      <th>4</th>\n",
       "      <td>11862</td>\n",
       "      <td>Father of the Bride Part II</td>\n",
       "      <td>[Comedy]</td>\n",
       "      <td>[0.0, 1.0, 0.0, 0.0, 0.0, 0.0, 0.0, 0.0, 0.0, ...</td>\n",
       "    </tr>\n",
       "  </tbody>\n",
       "</table>\n",
       "</div>"
      ],
      "text/plain": [
       "   tmdbId               original_title                        genres  \\\n",
       "0     862                    Toy Story   [Animation, Comedy, Family]   \n",
       "1    8844                      Jumanji  [Adventure, Fantasy, Family]   \n",
       "2   15602             Grumpier Old Men             [Romance, Comedy]   \n",
       "3   31357            Waiting to Exhale      [Comedy, Drama, Romance]   \n",
       "4   11862  Father of the Bride Part II                      [Comedy]   \n",
       "\n",
       "                                        movie_vector  \n",
       "0  [1.0, 1.0, 1.0, 0.0, 0.0, 0.0, 0.0, 0.0, 0.0, ...  \n",
       "1  [0.0, 0.0, 1.0, 1.0, 1.0, 0.0, 0.0, 0.0, 0.0, ...  \n",
       "2  [0.0, 1.0, 0.0, 0.0, 0.0, 1.0, 0.0, 0.0, 0.0, ...  \n",
       "3  [0.0, 1.0, 0.0, 0.0, 0.0, 1.0, 1.0, 0.0, 0.0, ...  \n",
       "4  [0.0, 1.0, 0.0, 0.0, 0.0, 0.0, 0.0, 0.0, 0.0, ...  "
      ]
     },
     "execution_count": 20,
     "metadata": {},
     "output_type": "execute_result"
    }
   ],
   "source": [
    "movies.head()"
   ]
  },
  {
   "cell_type": "code",
   "execution_count": 21,
   "metadata": {
    "colab": {},
    "colab_type": "code",
    "id": "MBpbLupqE752"
   },
   "outputs": [],
   "source": [
    "user_ids = ratings_train['userId'].unique()\n",
    "user_df = pd.DataFrame(columns=['userId', 'user_vector', 'avg_rating', 'num_movies_rated'])\n",
    "                       \n",
    "for user_id in user_ids:\n",
    "#     print(user_id)\n",
    "    user_rating_df = ratings_train[(ratings_train['userId'] == user_id)]\n",
    "#     print(user_rating_df)\n",
    "\n",
    "    user_vector = np.zeros(len(genre_dict))\n",
    "    count_vector = np.zeros(len(genre_dict))\n",
    "    \n",
    "    user_avg_rating = 0\n",
    "    movies_rated_count = 0\n",
    "        \n",
    "    for _, row in user_rating_df.iterrows():\n",
    "        user_avg_rating += row.rating \n",
    "        movies_rated_count += 1\n",
    "        genres = row.genres\n",
    "        \n",
    "        user_movie_vector = np.zeros(len(genre_dict))\n",
    "        \n",
    "        if genres:\n",
    "            for g in genres:\n",
    "                user_movie_vector[genre_dict[g]] = 1\n",
    "                count_vector[genre_dict[g]] += 1\n",
    "                        \n",
    "        user_vector += user_movie_vector*row.rating\n",
    "\n",
    "    count_vector = np.where(count_vector==0, 1, count_vector)\n",
    "    user_vector = np.divide(user_vector, count_vector)\n",
    "    user_avg_rating /= movies_rated_count\n",
    "    row_df = pd.DataFrame([[user_id, user_vector, user_avg_rating, movies_rated_count]], \n",
    "                          columns=['userId', 'user_vector', 'avg_rating', 'num_movies_rated'])\n",
    "#     print(row_df)\n",
    "    user_df = pd.concat([user_df, row_df], ignore_index=True)"
   ]
  },
  {
   "cell_type": "code",
   "execution_count": 22,
   "metadata": {},
   "outputs": [
    {
     "data": {
      "text/html": [
       "<div>\n",
       "<style scoped>\n",
       "    .dataframe tbody tr th:only-of-type {\n",
       "        vertical-align: middle;\n",
       "    }\n",
       "\n",
       "    .dataframe tbody tr th {\n",
       "        vertical-align: top;\n",
       "    }\n",
       "\n",
       "    .dataframe thead th {\n",
       "        text-align: right;\n",
       "    }\n",
       "</style>\n",
       "<table border=\"1\" class=\"dataframe\">\n",
       "  <thead>\n",
       "    <tr style=\"text-align: right;\">\n",
       "      <th></th>\n",
       "      <th>userId</th>\n",
       "      <th>user_vector</th>\n",
       "      <th>avg_rating</th>\n",
       "      <th>num_movies_rated</th>\n",
       "    </tr>\n",
       "  </thead>\n",
       "  <tbody>\n",
       "    <tr>\n",
       "      <th>0</th>\n",
       "      <td>1</td>\n",
       "      <td>[2.0, 1.75, 2.0, 2.3, 1.0, 3.75, 2.7, 3.25, 2....</td>\n",
       "      <td>2.625000</td>\n",
       "      <td>16</td>\n",
       "    </tr>\n",
       "    <tr>\n",
       "      <th>1</th>\n",
       "      <td>2</td>\n",
       "      <td>[3.3333333333333335, 3.125, 3.3076923076923075...</td>\n",
       "      <td>3.516667</td>\n",
       "      <td>60</td>\n",
       "    </tr>\n",
       "    <tr>\n",
       "      <th>2</th>\n",
       "      <td>3</td>\n",
       "      <td>[2.875, 3.5357142857142856, 3.0625, 3.41666666...</td>\n",
       "      <td>3.548780</td>\n",
       "      <td>41</td>\n",
       "    </tr>\n",
       "    <tr>\n",
       "      <th>3</th>\n",
       "      <td>4</td>\n",
       "      <td>[4.818181818181818, 4.287878787878788, 4.6, 4....</td>\n",
       "      <td>4.349693</td>\n",
       "      <td>163</td>\n",
       "    </tr>\n",
       "    <tr>\n",
       "      <th>4</th>\n",
       "      <td>5</td>\n",
       "      <td>[3.9, 3.953488372093023, 4.038461538461538, 3....</td>\n",
       "      <td>3.931250</td>\n",
       "      <td>80</td>\n",
       "    </tr>\n",
       "    <tr>\n",
       "      <th>...</th>\n",
       "      <td>...</td>\n",
       "      <td>...</td>\n",
       "      <td>...</td>\n",
       "      <td>...</td>\n",
       "    </tr>\n",
       "    <tr>\n",
       "      <th>666</th>\n",
       "      <td>667</td>\n",
       "      <td>[3.8, 3.7142857142857144, 3.8, 3.3333333333333...</td>\n",
       "      <td>3.592593</td>\n",
       "      <td>54</td>\n",
       "    </tr>\n",
       "    <tr>\n",
       "      <th>667</th>\n",
       "      <td>668</td>\n",
       "      <td>[3.0, 2.5, 3.0, 3.5, 1.0, 0.0, 4.0, 2.66666666...</td>\n",
       "      <td>3.733333</td>\n",
       "      <td>15</td>\n",
       "    </tr>\n",
       "    <tr>\n",
       "      <th>668</th>\n",
       "      <td>669</td>\n",
       "      <td>[0.0, 3.2142857142857144, 0.0, 3.5, 2.5, 3.166...</td>\n",
       "      <td>3.366667</td>\n",
       "      <td>30</td>\n",
       "    </tr>\n",
       "    <tr>\n",
       "      <th>669</th>\n",
       "      <td>670</td>\n",
       "      <td>[4.0, 3.6666666666666665, 4.0, 3.2, 2.0, 4.0, ...</td>\n",
       "      <td>3.680000</td>\n",
       "      <td>25</td>\n",
       "    </tr>\n",
       "    <tr>\n",
       "      <th>670</th>\n",
       "      <td>671</td>\n",
       "      <td>[4.3, 3.85, 4.138888888888889, 4.0217391304347...</td>\n",
       "      <td>3.918478</td>\n",
       "      <td>92</td>\n",
       "    </tr>\n",
       "  </tbody>\n",
       "</table>\n",
       "<p>671 rows × 4 columns</p>\n",
       "</div>"
      ],
      "text/plain": [
       "    userId                                        user_vector  avg_rating  \\\n",
       "0        1  [2.0, 1.75, 2.0, 2.3, 1.0, 3.75, 2.7, 3.25, 2....    2.625000   \n",
       "1        2  [3.3333333333333335, 3.125, 3.3076923076923075...    3.516667   \n",
       "2        3  [2.875, 3.5357142857142856, 3.0625, 3.41666666...    3.548780   \n",
       "3        4  [4.818181818181818, 4.287878787878788, 4.6, 4....    4.349693   \n",
       "4        5  [3.9, 3.953488372093023, 4.038461538461538, 3....    3.931250   \n",
       "..     ...                                                ...         ...   \n",
       "666    667  [3.8, 3.7142857142857144, 3.8, 3.3333333333333...    3.592593   \n",
       "667    668  [3.0, 2.5, 3.0, 3.5, 1.0, 0.0, 4.0, 2.66666666...    3.733333   \n",
       "668    669  [0.0, 3.2142857142857144, 0.0, 3.5, 2.5, 3.166...    3.366667   \n",
       "669    670  [4.0, 3.6666666666666665, 4.0, 3.2, 2.0, 4.0, ...    3.680000   \n",
       "670    671  [4.3, 3.85, 4.138888888888889, 4.0217391304347...    3.918478   \n",
       "\n",
       "    num_movies_rated  \n",
       "0                 16  \n",
       "1                 60  \n",
       "2                 41  \n",
       "3                163  \n",
       "4                 80  \n",
       "..               ...  \n",
       "666               54  \n",
       "667               15  \n",
       "668               30  \n",
       "669               25  \n",
       "670               92  \n",
       "\n",
       "[671 rows x 4 columns]"
      ]
     },
     "execution_count": 22,
     "metadata": {},
     "output_type": "execute_result"
    }
   ],
   "source": [
    "user_df"
   ]
  },
  {
   "cell_type": "code",
   "execution_count": 23,
   "metadata": {
    "colab": {},
    "colab_type": "code",
    "id": "a4HUlsrME754"
   },
   "outputs": [],
   "source": [
    "# Save the final dataframe\n",
    "user_df.to_csv(\"../0_data/processed/user_info.csv\")"
   ]
  },
  {
   "cell_type": "code",
   "execution_count": 24,
   "metadata": {
    "colab": {},
    "colab_type": "code",
    "id": "1Oxo_uJBE756",
    "outputId": "90805676-9130-4c84-f84f-6b7b4bb971fe"
   },
   "outputs": [
    {
     "data": {
      "text/html": [
       "<div>\n",
       "<style scoped>\n",
       "    .dataframe tbody tr th:only-of-type {\n",
       "        vertical-align: middle;\n",
       "    }\n",
       "\n",
       "    .dataframe tbody tr th {\n",
       "        vertical-align: top;\n",
       "    }\n",
       "\n",
       "    .dataframe thead th {\n",
       "        text-align: right;\n",
       "    }\n",
       "</style>\n",
       "<table border=\"1\" class=\"dataframe\">\n",
       "  <thead>\n",
       "    <tr style=\"text-align: right;\">\n",
       "      <th></th>\n",
       "      <th>userId</th>\n",
       "      <th>user_vector</th>\n",
       "      <th>avg_rating</th>\n",
       "      <th>num_movies_rated</th>\n",
       "    </tr>\n",
       "  </thead>\n",
       "  <tbody>\n",
       "    <tr>\n",
       "      <th>0</th>\n",
       "      <td>1</td>\n",
       "      <td>[2.0, 1.75, 2.0, 2.3, 1.0, 3.75, 2.7, 3.25, 2....</td>\n",
       "      <td>2.625000</td>\n",
       "      <td>16</td>\n",
       "    </tr>\n",
       "    <tr>\n",
       "      <th>1</th>\n",
       "      <td>2</td>\n",
       "      <td>[3.3333333333333335, 3.125, 3.3076923076923075...</td>\n",
       "      <td>3.516667</td>\n",
       "      <td>60</td>\n",
       "    </tr>\n",
       "    <tr>\n",
       "      <th>2</th>\n",
       "      <td>3</td>\n",
       "      <td>[2.875, 3.5357142857142856, 3.0625, 3.41666666...</td>\n",
       "      <td>3.548780</td>\n",
       "      <td>41</td>\n",
       "    </tr>\n",
       "    <tr>\n",
       "      <th>3</th>\n",
       "      <td>4</td>\n",
       "      <td>[4.818181818181818, 4.287878787878788, 4.6, 4....</td>\n",
       "      <td>4.349693</td>\n",
       "      <td>163</td>\n",
       "    </tr>\n",
       "    <tr>\n",
       "      <th>4</th>\n",
       "      <td>5</td>\n",
       "      <td>[3.9, 3.953488372093023, 4.038461538461538, 3....</td>\n",
       "      <td>3.931250</td>\n",
       "      <td>80</td>\n",
       "    </tr>\n",
       "  </tbody>\n",
       "</table>\n",
       "</div>"
      ],
      "text/plain": [
       "  userId                                        user_vector  avg_rating  \\\n",
       "0      1  [2.0, 1.75, 2.0, 2.3, 1.0, 3.75, 2.7, 3.25, 2....    2.625000   \n",
       "1      2  [3.3333333333333335, 3.125, 3.3076923076923075...    3.516667   \n",
       "2      3  [2.875, 3.5357142857142856, 3.0625, 3.41666666...    3.548780   \n",
       "3      4  [4.818181818181818, 4.287878787878788, 4.6, 4....    4.349693   \n",
       "4      5  [3.9, 3.953488372093023, 4.038461538461538, 3....    3.931250   \n",
       "\n",
       "  num_movies_rated  \n",
       "0               16  \n",
       "1               60  \n",
       "2               41  \n",
       "3              163  \n",
       "4               80  "
      ]
     },
     "execution_count": 24,
     "metadata": {},
     "output_type": "execute_result"
    }
   ],
   "source": [
    "user_df.head()"
   ]
  },
  {
   "cell_type": "code",
   "execution_count": 25,
   "metadata": {
    "colab": {},
    "colab_type": "code",
    "id": "LX8x9_iGE758",
    "outputId": "66e57c35-36c9-4189-c9b1-75c678330146"
   },
   "outputs": [
    {
     "data": {
      "text/html": [
       "<div>\n",
       "<style scoped>\n",
       "    .dataframe tbody tr th:only-of-type {\n",
       "        vertical-align: middle;\n",
       "    }\n",
       "\n",
       "    .dataframe tbody tr th {\n",
       "        vertical-align: top;\n",
       "    }\n",
       "\n",
       "    .dataframe thead th {\n",
       "        text-align: right;\n",
       "    }\n",
       "</style>\n",
       "<table border=\"1\" class=\"dataframe\">\n",
       "  <thead>\n",
       "    <tr style=\"text-align: right;\">\n",
       "      <th></th>\n",
       "      <th>userId</th>\n",
       "      <th>tmdbId</th>\n",
       "      <th>rating</th>\n",
       "      <th>timestamp</th>\n",
       "      <th>genres</th>\n",
       "    </tr>\n",
       "  </thead>\n",
       "  <tbody>\n",
       "    <tr>\n",
       "      <th>305</th>\n",
       "      <td>1</td>\n",
       "      <td>783</td>\n",
       "      <td>2.0</td>\n",
       "      <td>1260759148</td>\n",
       "      <td>[Drama, History]</td>\n",
       "    </tr>\n",
       "    <tr>\n",
       "      <th>664</th>\n",
       "      <td>1</td>\n",
       "      <td>847</td>\n",
       "      <td>2.0</td>\n",
       "      <td>1260759198</td>\n",
       "      <td>[Adventure, Drama, Action]</td>\n",
       "    </tr>\n",
       "    <tr>\n",
       "      <th>117</th>\n",
       "      <td>1</td>\n",
       "      <td>1103</td>\n",
       "      <td>2.0</td>\n",
       "      <td>1260759185</td>\n",
       "      <td>[Science Fiction, Action]</td>\n",
       "    </tr>\n",
       "    <tr>\n",
       "      <th>849</th>\n",
       "      <td>1</td>\n",
       "      <td>11072</td>\n",
       "      <td>3.0</td>\n",
       "      <td>1260759117</td>\n",
       "      <td>[Western, Comedy]</td>\n",
       "    </tr>\n",
       "    <tr>\n",
       "      <th>8371</th>\n",
       "      <td>2</td>\n",
       "      <td>268</td>\n",
       "      <td>5.0</td>\n",
       "      <td>835355395</td>\n",
       "      <td>[Fantasy, Action]</td>\n",
       "    </tr>\n",
       "  </tbody>\n",
       "</table>\n",
       "</div>"
      ],
      "text/plain": [
       "      userId  tmdbId  rating   timestamp                      genres\n",
       "305        1     783     2.0  1260759148            [Drama, History]\n",
       "664        1     847     2.0  1260759198  [Adventure, Drama, Action]\n",
       "117        1    1103     2.0  1260759185   [Science Fiction, Action]\n",
       "849        1   11072     3.0  1260759117           [Western, Comedy]\n",
       "8371       2     268     5.0   835355395           [Fantasy, Action]"
      ]
     },
     "execution_count": 25,
     "metadata": {},
     "output_type": "execute_result"
    }
   ],
   "source": [
    "ratings_test = test_data.copy()\n",
    "ratings_test.head()"
   ]
  },
  {
   "cell_type": "markdown",
   "metadata": {
    "colab_type": "text",
    "id": "93wgYR1LE75-"
   },
   "source": [
    "### Next  few cells for sample test data point"
   ]
  },
  {
   "cell_type": "code",
   "execution_count": 26,
   "metadata": {
    "colab": {},
    "colab_type": "code",
    "id": "s7bMkOXpE75-",
    "outputId": "72e0b289-0d00-400f-8bba-aaf988655437"
   },
   "outputs": [
    {
     "data": {
      "text/plain": [
       "userId                      1\n",
       "tmdbId                    783\n",
       "rating                    2.0\n",
       "timestamp          1260759148\n",
       "genres       [Drama, History]\n",
       "Name: 305, dtype: object"
      ]
     },
     "execution_count": 26,
     "metadata": {},
     "output_type": "execute_result"
    }
   ],
   "source": [
    "ratings_test.iloc[0]"
   ]
  },
  {
   "cell_type": "code",
   "execution_count": 27,
   "metadata": {
    "colab": {},
    "colab_type": "code",
    "id": "xD0Lky29E76A",
    "outputId": "75a3cd13-d48c-496d-e42c-2bac76ee6950",
    "scrolled": true
   },
   "outputs": [
    {
     "data": {
      "text/html": [
       "<div>\n",
       "<style scoped>\n",
       "    .dataframe tbody tr th:only-of-type {\n",
       "        vertical-align: middle;\n",
       "    }\n",
       "\n",
       "    .dataframe tbody tr th {\n",
       "        vertical-align: top;\n",
       "    }\n",
       "\n",
       "    .dataframe thead th {\n",
       "        text-align: right;\n",
       "    }\n",
       "</style>\n",
       "<table border=\"1\" class=\"dataframe\">\n",
       "  <thead>\n",
       "    <tr style=\"text-align: right;\">\n",
       "      <th></th>\n",
       "      <th>userId</th>\n",
       "      <th>tmdbId</th>\n",
       "      <th>rating</th>\n",
       "      <th>timestamp</th>\n",
       "      <th>genres</th>\n",
       "    </tr>\n",
       "  </thead>\n",
       "  <tbody>\n",
       "    <tr>\n",
       "      <th>11634</th>\n",
       "      <td>671</td>\n",
       "      <td>14</td>\n",
       "      <td>4.0</td>\n",
       "      <td>1063503841</td>\n",
       "      <td>[Drama]</td>\n",
       "    </tr>\n",
       "  </tbody>\n",
       "</table>\n",
       "</div>"
      ],
      "text/plain": [
       "       userId  tmdbId  rating   timestamp   genres\n",
       "11634     671      14     4.0  1063503841  [Drama]"
      ]
     },
     "execution_count": 27,
     "metadata": {},
     "output_type": "execute_result"
    }
   ],
   "source": [
    "user_rating_df[user_rating_df['tmdbId']==14]"
   ]
  },
  {
   "cell_type": "code",
   "execution_count": 28,
   "metadata": {
    "colab": {},
    "colab_type": "code",
    "id": "6PZZJ09oE76G",
    "outputId": "5b878dd8-efd2-43b2-efa1-515972422bd1"
   },
   "outputs": [
    {
     "name": "stdout",
     "output_type": "stream",
     "text": [
      "[0. 0. 0. 0. 0. 0. 1. 0. 0. 0. 0. 0. 0. 0. 0. 0. 0. 0. 0. 0. 0.]\n"
     ]
    }
   ],
   "source": [
    "genres = user_rating_df[user_rating_df['tmdbId']==14].genres.values[0]\n",
    "vector = np.zeros(len(genre_dict))\n",
    "for g in genres:\n",
    "    vector[genre_dict[g]] = 1\n",
    "print(vector)"
   ]
  },
  {
   "cell_type": "code",
   "execution_count": 29,
   "metadata": {
    "colab": {},
    "colab_type": "code",
    "id": "bx4vq6KZE76I",
    "outputId": "ae235b28-cdfd-48f3-8aaa-3e08ffe6f9f8"
   },
   "outputs": [
    {
     "data": {
      "text/plain": [
       "array([2.   , 1.75 , 2.   , 2.3  , 1.   , 3.75 , 2.7  , 3.25 , 2.875,\n",
       "       3.   , 3.   , 2.   , 2.5  , 2.5  , 2.   , 0.   , 0.   , 0.   ,\n",
       "       0.   , 0.   , 0.   ])"
      ]
     },
     "execution_count": 29,
     "metadata": {},
     "output_type": "execute_result"
    }
   ],
   "source": [
    "user_df[user_df['userId']==1].user_vector[0]"
   ]
  },
  {
   "cell_type": "code",
   "execution_count": 30,
   "metadata": {
    "colab": {},
    "colab_type": "code",
    "id": "FD3esxqIE76K",
    "outputId": "43b0346e-5b23-42a3-9432-1e520347ac20",
    "scrolled": true
   },
   "outputs": [
    {
     "data": {
      "text/plain": [
       "2.7"
      ]
     },
     "execution_count": 30,
     "metadata": {},
     "output_type": "execute_result"
    }
   ],
   "source": [
    "x = vector*user_df[user_df['userId']==1].user_vector[0]\n",
    "np.nanmean(np.where(x!=0,x,np.nan)) "
   ]
  },
  {
   "cell_type": "markdown",
   "metadata": {
    "colab_type": "text",
    "id": "Rjrj3u66E76M"
   },
   "source": [
    "### Test on entire test data"
   ]
  },
  {
   "cell_type": "code",
   "execution_count": 33,
   "metadata": {
    "colab": {},
    "colab_type": "code",
    "id": "vhTae8OXE76M"
   },
   "outputs": [],
   "source": [
    "import time"
   ]
  },
  {
   "cell_type": "code",
   "execution_count": 34,
   "metadata": {
    "colab": {},
    "colab_type": "code",
    "id": "xez8u-JME76O",
    "scrolled": true
   },
   "outputs": [],
   "source": [
    "algo_predictions = pd.DataFrame(columns=['userId', 'tmdbId', 'user_vector', 'movie_vector', 'og_rating', 'pred_rating'])\n",
    "\n",
    "start_test = time.time()\n",
    "for ind, row in ratings_test.iterrows():\n",
    "    userId = row['userId']\n",
    "    tmdbId = row['tmdbId']\n",
    "    og_rating = row['rating']\n",
    "    \n",
    "    try:\n",
    "        user_vector = user_df[user_df['userId'] == int(userId)].user_vector.values[0]\n",
    "        movie_vector = movies[movies['tmdbId'] == int(tmdbId)].movie_vector.values[0]\n",
    "\n",
    "        predicted_rating = user_vector*movie_vector\n",
    "        \n",
    "        if predicted_rating.any():\n",
    "            predicted_rating = np.nanmean(np.where(predicted_rating!=0, predicted_rating, np.nan)) \n",
    "        else:\n",
    "            predicted_rating = 0\n",
    "\n",
    "        row_df = pd.DataFrame([[userId, tmdbId, user_vector, movie_vector, og_rating, predicted_rating]], \n",
    "                    columns=['userId', 'tmdbId', 'user_vector', 'movie_vector', 'og_rating', 'pred_rating'])\n",
    "        algo_predictions = pd.concat([algo_predictions, row_df], ignore_index=True)\n",
    "    except:\n",
    "        print(\"User not found: \", userId)\n",
    "        \n",
    "#     print(ind, row['userId'])\n",
    "    \n",
    "end_test = time.time()\n",
    "test_time = end_test - start_test"
   ]
  },
  {
   "cell_type": "code",
   "execution_count": 35,
   "metadata": {},
   "outputs": [
    {
     "data": {
      "text/plain": [
       "20.739584922790527"
      ]
     },
     "execution_count": 35,
     "metadata": {},
     "output_type": "execute_result"
    }
   ],
   "source": [
    "test_time"
   ]
  },
  {
   "cell_type": "code",
   "execution_count": 36,
   "metadata": {
    "colab": {},
    "colab_type": "code",
    "id": "kX92i_TbE76Q",
    "outputId": "35c02977-8068-45b8-c97d-75b2d4dba239"
   },
   "outputs": [
    {
     "data": {
      "text/plain": [
       "0.949692750548112"
      ]
     },
     "execution_count": 36,
     "metadata": {},
     "output_type": "execute_result"
    }
   ],
   "source": [
    "rmse = ((algo_predictions.og_rating - algo_predictions.pred_rating) ** 2).mean() ** .5\n",
    "rmse"
   ]
  },
  {
   "cell_type": "code",
   "execution_count": 37,
   "metadata": {
    "colab": {},
    "colab_type": "code",
    "id": "9y_KEqI8E76T",
    "outputId": "4727793c-cfe7-4c55-c89b-90803057d1e1"
   },
   "outputs": [
    {
     "data": {
      "text/plain": [
       "0.7336950842572434"
      ]
     },
     "execution_count": 37,
     "metadata": {},
     "output_type": "execute_result"
    }
   ],
   "source": [
    "mae = (((algo_predictions.og_rating - algo_predictions.pred_rating) ** 2) ** .5).mean()\n",
    "mae"
   ]
  },
  {
   "cell_type": "code",
   "execution_count": 38,
   "metadata": {},
   "outputs": [
    {
     "data": {
      "text/html": [
       "<div>\n",
       "<style scoped>\n",
       "    .dataframe tbody tr th:only-of-type {\n",
       "        vertical-align: middle;\n",
       "    }\n",
       "\n",
       "    .dataframe tbody tr th {\n",
       "        vertical-align: top;\n",
       "    }\n",
       "\n",
       "    .dataframe thead th {\n",
       "        text-align: right;\n",
       "    }\n",
       "</style>\n",
       "<table border=\"1\" class=\"dataframe\">\n",
       "  <thead>\n",
       "    <tr style=\"text-align: right;\">\n",
       "      <th></th>\n",
       "      <th>userId</th>\n",
       "      <th>tmdbId</th>\n",
       "      <th>user_vector</th>\n",
       "      <th>movie_vector</th>\n",
       "      <th>og_rating</th>\n",
       "      <th>pred_rating</th>\n",
       "    </tr>\n",
       "  </thead>\n",
       "  <tbody>\n",
       "    <tr>\n",
       "      <th>0</th>\n",
       "      <td>1</td>\n",
       "      <td>783</td>\n",
       "      <td>[2.0, 1.75, 2.0, 2.3, 1.0, 3.75, 2.7, 3.25, 2....</td>\n",
       "      <td>[0.0, 0.0, 0.0, 0.0, 0.0, 0.0, 1.0, 0.0, 0.0, ...</td>\n",
       "      <td>2.0</td>\n",
       "      <td>2.350000</td>\n",
       "    </tr>\n",
       "    <tr>\n",
       "      <th>1</th>\n",
       "      <td>1</td>\n",
       "      <td>847</td>\n",
       "      <td>[2.0, 1.75, 2.0, 2.3, 1.0, 3.75, 2.7, 3.25, 2....</td>\n",
       "      <td>[0.0, 0.0, 0.0, 1.0, 0.0, 0.0, 1.0, 1.0, 0.0, ...</td>\n",
       "      <td>2.0</td>\n",
       "      <td>2.750000</td>\n",
       "    </tr>\n",
       "    <tr>\n",
       "      <th>2</th>\n",
       "      <td>1</td>\n",
       "      <td>1103</td>\n",
       "      <td>[2.0, 1.75, 2.0, 2.3, 1.0, 3.75, 2.7, 3.25, 2....</td>\n",
       "      <td>[0.0, 0.0, 0.0, 0.0, 0.0, 0.0, 0.0, 1.0, 0.0, ...</td>\n",
       "      <td>2.0</td>\n",
       "      <td>2.875000</td>\n",
       "    </tr>\n",
       "    <tr>\n",
       "      <th>3</th>\n",
       "      <td>1</td>\n",
       "      <td>11072</td>\n",
       "      <td>[2.0, 1.75, 2.0, 2.3, 1.0, 3.75, 2.7, 3.25, 2....</td>\n",
       "      <td>[0.0, 1.0, 0.0, 0.0, 0.0, 0.0, 0.0, 0.0, 0.0, ...</td>\n",
       "      <td>3.0</td>\n",
       "      <td>1.750000</td>\n",
       "    </tr>\n",
       "    <tr>\n",
       "      <th>4</th>\n",
       "      <td>2</td>\n",
       "      <td>268</td>\n",
       "      <td>[3.3333333333333335, 3.125, 3.3076923076923075...</td>\n",
       "      <td>[0.0, 0.0, 0.0, 0.0, 1.0, 0.0, 0.0, 1.0, 0.0, ...</td>\n",
       "      <td>5.0</td>\n",
       "      <td>3.107143</td>\n",
       "    </tr>\n",
       "    <tr>\n",
       "      <th>...</th>\n",
       "      <td>...</td>\n",
       "      <td>...</td>\n",
       "      <td>...</td>\n",
       "      <td>...</td>\n",
       "      <td>...</td>\n",
       "      <td>...</td>\n",
       "    </tr>\n",
       "    <tr>\n",
       "      <th>19965</th>\n",
       "      <td>671</td>\n",
       "      <td>8469</td>\n",
       "      <td>[4.3, 3.85, 4.138888888888889, 4.0217391304347...</td>\n",
       "      <td>[0.0, 1.0, 0.0, 0.0, 0.0, 0.0, 0.0, 0.0, 0.0, ...</td>\n",
       "      <td>4.0</td>\n",
       "      <td>3.850000</td>\n",
       "    </tr>\n",
       "    <tr>\n",
       "      <th>19966</th>\n",
       "      <td>671</td>\n",
       "      <td>9479</td>\n",
       "      <td>[4.3, 3.85, 4.138888888888889, 4.0217391304347...</td>\n",
       "      <td>[1.0, 0.0, 1.0, 0.0, 1.0, 0.0, 0.0, 0.0, 0.0, ...</td>\n",
       "      <td>5.0</td>\n",
       "      <td>4.193915</td>\n",
       "    </tr>\n",
       "    <tr>\n",
       "      <th>19967</th>\n",
       "      <td>671</td>\n",
       "      <td>9609</td>\n",
       "      <td>[4.3, 3.85, 4.138888888888889, 4.0217391304347...</td>\n",
       "      <td>[0.0, 0.0, 0.0, 0.0, 0.0, 0.0, 1.0, 0.0, 0.0, ...</td>\n",
       "      <td>4.0</td>\n",
       "      <td>3.784091</td>\n",
       "    </tr>\n",
       "    <tr>\n",
       "      <th>19968</th>\n",
       "      <td>671</td>\n",
       "      <td>10678</td>\n",
       "      <td>[4.3, 3.85, 4.138888888888889, 4.0217391304347...</td>\n",
       "      <td>[0.0, 1.0, 0.0, 0.0, 0.0, 0.0, 0.0, 0.0, 0.0, ...</td>\n",
       "      <td>2.5</td>\n",
       "      <td>3.850000</td>\n",
       "    </tr>\n",
       "    <tr>\n",
       "      <th>19969</th>\n",
       "      <td>671</td>\n",
       "      <td>11973</td>\n",
       "      <td>[4.3, 3.85, 4.138888888888889, 4.0217391304347...</td>\n",
       "      <td>[0.0, 0.0, 0.0, 0.0, 0.0, 0.0, 1.0, 0.0, 0.0, ...</td>\n",
       "      <td>4.0</td>\n",
       "      <td>3.892045</td>\n",
       "    </tr>\n",
       "  </tbody>\n",
       "</table>\n",
       "<p>19970 rows × 6 columns</p>\n",
       "</div>"
      ],
      "text/plain": [
       "      userId tmdbId                                        user_vector  \\\n",
       "0          1    783  [2.0, 1.75, 2.0, 2.3, 1.0, 3.75, 2.7, 3.25, 2....   \n",
       "1          1    847  [2.0, 1.75, 2.0, 2.3, 1.0, 3.75, 2.7, 3.25, 2....   \n",
       "2          1   1103  [2.0, 1.75, 2.0, 2.3, 1.0, 3.75, 2.7, 3.25, 2....   \n",
       "3          1  11072  [2.0, 1.75, 2.0, 2.3, 1.0, 3.75, 2.7, 3.25, 2....   \n",
       "4          2    268  [3.3333333333333335, 3.125, 3.3076923076923075...   \n",
       "...      ...    ...                                                ...   \n",
       "19965    671   8469  [4.3, 3.85, 4.138888888888889, 4.0217391304347...   \n",
       "19966    671   9479  [4.3, 3.85, 4.138888888888889, 4.0217391304347...   \n",
       "19967    671   9609  [4.3, 3.85, 4.138888888888889, 4.0217391304347...   \n",
       "19968    671  10678  [4.3, 3.85, 4.138888888888889, 4.0217391304347...   \n",
       "19969    671  11973  [4.3, 3.85, 4.138888888888889, 4.0217391304347...   \n",
       "\n",
       "                                            movie_vector  og_rating  \\\n",
       "0      [0.0, 0.0, 0.0, 0.0, 0.0, 0.0, 1.0, 0.0, 0.0, ...        2.0   \n",
       "1      [0.0, 0.0, 0.0, 1.0, 0.0, 0.0, 1.0, 1.0, 0.0, ...        2.0   \n",
       "2      [0.0, 0.0, 0.0, 0.0, 0.0, 0.0, 0.0, 1.0, 0.0, ...        2.0   \n",
       "3      [0.0, 1.0, 0.0, 0.0, 0.0, 0.0, 0.0, 0.0, 0.0, ...        3.0   \n",
       "4      [0.0, 0.0, 0.0, 0.0, 1.0, 0.0, 0.0, 1.0, 0.0, ...        5.0   \n",
       "...                                                  ...        ...   \n",
       "19965  [0.0, 1.0, 0.0, 0.0, 0.0, 0.0, 0.0, 0.0, 0.0, ...        4.0   \n",
       "19966  [1.0, 0.0, 1.0, 0.0, 1.0, 0.0, 0.0, 0.0, 0.0, ...        5.0   \n",
       "19967  [0.0, 0.0, 0.0, 0.0, 0.0, 0.0, 1.0, 0.0, 0.0, ...        4.0   \n",
       "19968  [0.0, 1.0, 0.0, 0.0, 0.0, 0.0, 0.0, 0.0, 0.0, ...        2.5   \n",
       "19969  [0.0, 0.0, 0.0, 0.0, 0.0, 0.0, 1.0, 0.0, 0.0, ...        4.0   \n",
       "\n",
       "       pred_rating  \n",
       "0         2.350000  \n",
       "1         2.750000  \n",
       "2         2.875000  \n",
       "3         1.750000  \n",
       "4         3.107143  \n",
       "...            ...  \n",
       "19965     3.850000  \n",
       "19966     4.193915  \n",
       "19967     3.784091  \n",
       "19968     3.850000  \n",
       "19969     3.892045  \n",
       "\n",
       "[19970 rows x 6 columns]"
      ]
     },
     "execution_count": 38,
     "metadata": {},
     "output_type": "execute_result"
    }
   ],
   "source": [
    "algo_predictions"
   ]
  },
  {
   "cell_type": "code",
   "execution_count": 39,
   "metadata": {},
   "outputs": [],
   "source": [
    "algo_predictions_repurposed = algo_predictions[['userId', 'tmdbId', 'og_rating', 'pred_rating']]"
   ]
  },
  {
   "cell_type": "code",
   "execution_count": 40,
   "metadata": {},
   "outputs": [
    {
     "data": {
      "text/html": [
       "<div>\n",
       "<style scoped>\n",
       "    .dataframe tbody tr th:only-of-type {\n",
       "        vertical-align: middle;\n",
       "    }\n",
       "\n",
       "    .dataframe tbody tr th {\n",
       "        vertical-align: top;\n",
       "    }\n",
       "\n",
       "    .dataframe thead th {\n",
       "        text-align: right;\n",
       "    }\n",
       "</style>\n",
       "<table border=\"1\" class=\"dataframe\">\n",
       "  <thead>\n",
       "    <tr style=\"text-align: right;\">\n",
       "      <th></th>\n",
       "      <th>userId</th>\n",
       "      <th>tmdbId</th>\n",
       "      <th>og_rating</th>\n",
       "      <th>pred_rating</th>\n",
       "    </tr>\n",
       "  </thead>\n",
       "  <tbody>\n",
       "    <tr>\n",
       "      <th>0</th>\n",
       "      <td>1</td>\n",
       "      <td>783</td>\n",
       "      <td>2.0</td>\n",
       "      <td>2.350000</td>\n",
       "    </tr>\n",
       "    <tr>\n",
       "      <th>1</th>\n",
       "      <td>1</td>\n",
       "      <td>847</td>\n",
       "      <td>2.0</td>\n",
       "      <td>2.750000</td>\n",
       "    </tr>\n",
       "    <tr>\n",
       "      <th>2</th>\n",
       "      <td>1</td>\n",
       "      <td>1103</td>\n",
       "      <td>2.0</td>\n",
       "      <td>2.875000</td>\n",
       "    </tr>\n",
       "    <tr>\n",
       "      <th>3</th>\n",
       "      <td>1</td>\n",
       "      <td>11072</td>\n",
       "      <td>3.0</td>\n",
       "      <td>1.750000</td>\n",
       "    </tr>\n",
       "    <tr>\n",
       "      <th>4</th>\n",
       "      <td>2</td>\n",
       "      <td>268</td>\n",
       "      <td>5.0</td>\n",
       "      <td>3.107143</td>\n",
       "    </tr>\n",
       "    <tr>\n",
       "      <th>...</th>\n",
       "      <td>...</td>\n",
       "      <td>...</td>\n",
       "      <td>...</td>\n",
       "      <td>...</td>\n",
       "    </tr>\n",
       "    <tr>\n",
       "      <th>19965</th>\n",
       "      <td>671</td>\n",
       "      <td>8469</td>\n",
       "      <td>4.0</td>\n",
       "      <td>3.850000</td>\n",
       "    </tr>\n",
       "    <tr>\n",
       "      <th>19966</th>\n",
       "      <td>671</td>\n",
       "      <td>9479</td>\n",
       "      <td>5.0</td>\n",
       "      <td>4.193915</td>\n",
       "    </tr>\n",
       "    <tr>\n",
       "      <th>19967</th>\n",
       "      <td>671</td>\n",
       "      <td>9609</td>\n",
       "      <td>4.0</td>\n",
       "      <td>3.784091</td>\n",
       "    </tr>\n",
       "    <tr>\n",
       "      <th>19968</th>\n",
       "      <td>671</td>\n",
       "      <td>10678</td>\n",
       "      <td>2.5</td>\n",
       "      <td>3.850000</td>\n",
       "    </tr>\n",
       "    <tr>\n",
       "      <th>19969</th>\n",
       "      <td>671</td>\n",
       "      <td>11973</td>\n",
       "      <td>4.0</td>\n",
       "      <td>3.892045</td>\n",
       "    </tr>\n",
       "  </tbody>\n",
       "</table>\n",
       "<p>19970 rows × 4 columns</p>\n",
       "</div>"
      ],
      "text/plain": [
       "      userId tmdbId  og_rating  pred_rating\n",
       "0          1    783        2.0     2.350000\n",
       "1          1    847        2.0     2.750000\n",
       "2          1   1103        2.0     2.875000\n",
       "3          1  11072        3.0     1.750000\n",
       "4          2    268        5.0     3.107143\n",
       "...      ...    ...        ...          ...\n",
       "19965    671   8469        4.0     3.850000\n",
       "19966    671   9479        5.0     4.193915\n",
       "19967    671   9609        4.0     3.784091\n",
       "19968    671  10678        2.5     3.850000\n",
       "19969    671  11973        4.0     3.892045\n",
       "\n",
       "[19970 rows x 4 columns]"
      ]
     },
     "execution_count": 40,
     "metadata": {},
     "output_type": "execute_result"
    }
   ],
   "source": [
    "algo_predictions_repurposed"
   ]
  },
  {
   "cell_type": "code",
   "execution_count": 41,
   "metadata": {},
   "outputs": [],
   "source": [
    "import math\n",
    "from collections import defaultdict\n",
    "import csv\n",
    "from sklearn.metrics import ndcg_score\n",
    "import time\n",
    "from surprise.prediction_algorithms.predictions import Prediction"
   ]
  },
  {
   "cell_type": "code",
   "execution_count": 42,
   "metadata": {},
   "outputs": [],
   "source": [
    "predictions = [Prediction(uid=x, iid=y, r_ui=z, est=t, details = {}) for x, y, z, t in zip(algo_predictions_repurposed['userId'], algo_predictions_repurposed['tmdbId'], algo_predictions_repurposed['og_rating'], algo_predictions_repurposed['pred_rating'])]"
   ]
  },
  {
   "cell_type": "code",
   "execution_count": 44,
   "metadata": {},
   "outputs": [],
   "source": [
    "def get_top_n(predictions, n):\n",
    "    # First map the predictions to each user.\n",
    "    top_n = defaultdict(list)\n",
    "    org_ratings = defaultdict(list)\n",
    "\n",
    "    for uid, iid, true_r, est, _ in predictions:\n",
    "        top_n[uid].append((iid, est))\n",
    "        org_ratings[uid].append((iid, true_r))\n",
    "\n",
    "    # Then sort the predictions for each user and retrieve the k highest ones.\n",
    "    for uid, user_ratings in top_n.items():\n",
    "        user_ratings.sort(key=lambda x: x[1], reverse=True)\n",
    "        top_n[uid] = user_ratings[:n]\n",
    "\n",
    "    return top_n, org_ratings"
   ]
  },
  {
   "cell_type": "code",
   "execution_count": 45,
   "metadata": {},
   "outputs": [],
   "source": [
    "def dcg_at_k(scores):\n",
    "    return scores[0] + sum(sc/math.log(ind, 2) for sc, ind in zip(scores[1:], range(2, len(scores) + 1)))\n",
    "\n",
    "def ndcg_at_k(scores):\n",
    "    idcg = dcg_at_k(sorted(scores, reverse=True))\n",
    "    return (dcg_at_k(scores)/idcg) if idcg > 0.0 else 0.0"
   ]
  },
  {
   "cell_type": "code",
   "execution_count": 46,
   "metadata": {},
   "outputs": [],
   "source": [
    "def precision_recall_at_k(predictions, k=5, threshold=3.5):\n",
    "    '''Return precision and recall at k metrics for each user.'''\n",
    "\n",
    "    # First map the predictions to each user.\n",
    "    user_est_true = defaultdict(list)\n",
    "    for uid, _, true_r, est, _ in predictions:\n",
    "        user_est_true[uid].append((est, true_r))\n",
    "\n",
    "    precisions = dict()\n",
    "    recalls = dict()\n",
    "    for uid, user_ratings in user_est_true.items():\n",
    "\n",
    "        # Sort user ratings by estimated value\n",
    "        user_ratings.sort(key=lambda x: x[0], reverse=True)\n",
    "\n",
    "        # Number of relevant items\n",
    "        n_rel = sum((true_r >= threshold) for (_, true_r) in user_ratings)\n",
    "\n",
    "        # Number of recommended items in top k\n",
    "        n_rec_k = sum((est >= threshold) for (est, _) in user_ratings[:k])\n",
    "\n",
    "        # Number of relevant and recommended items in top k\n",
    "        n_rel_and_rec_k = sum(((true_r >= threshold) and (est >= threshold))\n",
    "                              for (est, true_r) in user_ratings[:k])\n",
    "\n",
    "        # Precision@K: Proportion of recommended items that are relevant\n",
    "        precisions[uid] = n_rel_and_rec_k / n_rec_k if n_rec_k != 0 else 1\n",
    "\n",
    "        # Recall@K: Proportion of relevant items that are recommended\n",
    "        recalls[uid] = n_rel_and_rec_k / n_rel if n_rel != 0 else 1\n",
    "\n",
    "    precision = (sum(prec for prec in precisions.values()) / len(precisions))\n",
    "    recall = (sum(rec for rec in recalls.values()) / len(recalls))\n",
    "\n",
    "    return precision, recall"
   ]
  },
  {
   "cell_type": "code",
   "execution_count": 47,
   "metadata": {},
   "outputs": [],
   "source": [
    "top_n, org_ratings = get_top_n(predictions, 5)\n",
    "\n",
    "precision, recall = precision_recall_at_k(predictions)\n",
    "\n",
    "f_measure = (2*precision*recall)/(precision+recall)\n",
    "\n",
    "ndcg_scores = dict()\n",
    "for uid, user_ratings in top_n.items():\n",
    "    scores = []\n",
    "    for iid, est_r in user_ratings:\n",
    "        iid_found = False\n",
    "        org_user_ratings = org_ratings[uid]\n",
    "        for i, r in org_user_ratings:\n",
    "            if iid == i:\n",
    "                scores.append(r)\n",
    "                iid_found = True\n",
    "                break\n",
    "        if not iid_found:\n",
    "            scores.append(0)\n",
    "ndcg_scores[uid] = ndcg_at_k(scores)\n",
    "ndcg_score = sum(ndcg for ndcg in ndcg_scores.values())/len(ndcg_scores)"
   ]
  },
  {
   "cell_type": "code",
   "execution_count": 48,
   "metadata": {},
   "outputs": [
    {
     "name": "stdout",
     "output_type": "stream",
     "text": [
      "Precision:  0.807774465971189\n",
      "Recall:  0.3575039671599877\n",
      "F Measure:  0.49564562072819546\n",
      "NDCG:  0.9804438224372349\n"
     ]
    }
   ],
   "source": [
    "print('Precision: ', precision)\n",
    "print('Recall: ', recall)\n",
    "print('F Measure: ', f_measure)\n",
    "print('NDCG: ', ndcg_score)"
   ]
  },
  {
   "cell_type": "markdown",
   "metadata": {},
   "source": [
    "# Results"
   ]
  },
  {
   "cell_type": "markdown",
   "metadata": {},
   "source": [
    "- Test time: 20.739584922790527\n",
    "- RMSE: 0.949692750548112\n",
    "- MAE: 0.7336950842572434\n",
    "- Precision: 0.807774465971189\n",
    "- Recall: 0.3575039671599877\n",
    "- NDCG: 0.9804438224372349"
   ]
  }
 ],
 "metadata": {
  "colab": {
   "collapsed_sections": [],
   "name": "content_based_recommendation.ipynb",
   "provenance": []
  },
  "kernelspec": {
   "display_name": "Python 3 (ipykernel)",
   "language": "python",
   "name": "python3"
  },
  "language_info": {
   "codemirror_mode": {
    "name": "ipython",
    "version": 3
   },
   "file_extension": ".py",
   "mimetype": "text/x-python",
   "name": "python",
   "nbconvert_exporter": "python",
   "pygments_lexer": "ipython3",
   "version": "3.8.13"
  }
 },
 "nbformat": 4,
 "nbformat_minor": 4
}
