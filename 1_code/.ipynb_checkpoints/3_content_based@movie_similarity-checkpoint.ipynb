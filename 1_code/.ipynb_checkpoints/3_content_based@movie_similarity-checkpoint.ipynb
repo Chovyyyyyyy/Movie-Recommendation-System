{
 "cells": [
  {
   "cell_type": "markdown",
   "metadata": {
    "colab_type": "text",
    "id": "KiqfWFyTM8G7"
   },
   "source": [
    "This method uses the content based approach to include the user's genre preference and recommends movies  similar to user's highly rated movies."
   ]
  },
  {
   "cell_type": "code",
   "execution_count": 1,
   "metadata": {
    "colab": {},
    "colab_type": "code",
    "id": "0uqnVl_sM8kO"
   },
   "outputs": [],
   "source": [
    "import numpy as np\n",
    "import pandas as pd\n",
    "import matplotlib.pyplot as plt\n",
    "\n",
    "from ast import literal_eval\n",
    "from sklearn.feature_extraction.text import TfidfVectorizer, CountVectorizer\n",
    "from sklearn.metrics.pairwise import linear_kernel, cosine_similarity"
   ]
  },
  {
   "cell_type": "code",
   "execution_count": 2,
   "metadata": {
    "colab": {},
    "colab_type": "code",
    "id": "CG_PSqWkMxwA"
   },
   "outputs": [],
   "source": [
    "# Load movie data\n",
    "movies_org = pd.read_csv(\"../0_data/input/movies_metadata.csv\")#, converters={\"genres\": literal_eval, \"tag\": literal_eval})"
   ]
  },
  {
   "cell_type": "code",
   "execution_count": 3,
   "metadata": {},
   "outputs": [],
   "source": [
    "movies = movies_org[['tmdbId', 'original_title', 'genres', 'overview', 'popularity', 'release_date', 'tagline', 'vote_average', 'vote_count']]"
   ]
  },
  {
   "cell_type": "code",
   "execution_count": 4,
   "metadata": {
    "colab": {},
    "colab_type": "code",
    "id": "ZxJmf1QpMxwC",
    "outputId": "b31ddba5-ab8f-4cae-be15-6f0f360bd61c"
   },
   "outputs": [
    {
     "data": {
      "text/html": [
       "<div>\n",
       "<style scoped>\n",
       "    .dataframe tbody tr th:only-of-type {\n",
       "        vertical-align: middle;\n",
       "    }\n",
       "\n",
       "    .dataframe tbody tr th {\n",
       "        vertical-align: top;\n",
       "    }\n",
       "\n",
       "    .dataframe thead th {\n",
       "        text-align: right;\n",
       "    }\n",
       "</style>\n",
       "<table border=\"1\" class=\"dataframe\">\n",
       "  <thead>\n",
       "    <tr style=\"text-align: right;\">\n",
       "      <th></th>\n",
       "      <th>tmdbId</th>\n",
       "      <th>original_title</th>\n",
       "      <th>genres</th>\n",
       "      <th>overview</th>\n",
       "      <th>popularity</th>\n",
       "      <th>release_date</th>\n",
       "      <th>tagline</th>\n",
       "      <th>vote_average</th>\n",
       "      <th>vote_count</th>\n",
       "    </tr>\n",
       "  </thead>\n",
       "  <tbody>\n",
       "    <tr>\n",
       "      <th>0</th>\n",
       "      <td>862</td>\n",
       "      <td>Toy Story</td>\n",
       "      <td>['Animation', 'Comedy', 'Family']</td>\n",
       "      <td>Led by Woody, Andy's toys live happily in his ...</td>\n",
       "      <td>21.946943</td>\n",
       "      <td>1995-10-30</td>\n",
       "      <td>NaN</td>\n",
       "      <td>7.7</td>\n",
       "      <td>5415.0</td>\n",
       "    </tr>\n",
       "    <tr>\n",
       "      <th>1</th>\n",
       "      <td>8844</td>\n",
       "      <td>Jumanji</td>\n",
       "      <td>['Adventure', 'Fantasy', 'Family']</td>\n",
       "      <td>When siblings Judy and Peter discover an encha...</td>\n",
       "      <td>17.015539</td>\n",
       "      <td>1995-12-15</td>\n",
       "      <td>Roll the dice and unleash the excitement!</td>\n",
       "      <td>6.9</td>\n",
       "      <td>2413.0</td>\n",
       "    </tr>\n",
       "    <tr>\n",
       "      <th>2</th>\n",
       "      <td>15602</td>\n",
       "      <td>Grumpier Old Men</td>\n",
       "      <td>['Romance', 'Comedy']</td>\n",
       "      <td>A family wedding reignites the ancient feud be...</td>\n",
       "      <td>11.712900</td>\n",
       "      <td>1995-12-22</td>\n",
       "      <td>Still Yelling. Still Fighting. Still Ready for...</td>\n",
       "      <td>6.5</td>\n",
       "      <td>92.0</td>\n",
       "    </tr>\n",
       "    <tr>\n",
       "      <th>3</th>\n",
       "      <td>31357</td>\n",
       "      <td>Waiting to Exhale</td>\n",
       "      <td>['Comedy', 'Drama', 'Romance']</td>\n",
       "      <td>Cheated on, mistreated and stepped on, the wom...</td>\n",
       "      <td>3.859495</td>\n",
       "      <td>1995-12-22</td>\n",
       "      <td>Friends are the people who let you be yourself...</td>\n",
       "      <td>6.1</td>\n",
       "      <td>34.0</td>\n",
       "    </tr>\n",
       "    <tr>\n",
       "      <th>4</th>\n",
       "      <td>11862</td>\n",
       "      <td>Father of the Bride Part II</td>\n",
       "      <td>['Comedy']</td>\n",
       "      <td>Just when George Banks has recovered from his ...</td>\n",
       "      <td>8.387519</td>\n",
       "      <td>1995-02-10</td>\n",
       "      <td>Just When His World Is Back To Normal... He's ...</td>\n",
       "      <td>5.7</td>\n",
       "      <td>173.0</td>\n",
       "    </tr>\n",
       "  </tbody>\n",
       "</table>\n",
       "</div>"
      ],
      "text/plain": [
       "   tmdbId               original_title                              genres  \\\n",
       "0     862                    Toy Story   ['Animation', 'Comedy', 'Family']   \n",
       "1    8844                      Jumanji  ['Adventure', 'Fantasy', 'Family']   \n",
       "2   15602             Grumpier Old Men               ['Romance', 'Comedy']   \n",
       "3   31357            Waiting to Exhale      ['Comedy', 'Drama', 'Romance']   \n",
       "4   11862  Father of the Bride Part II                          ['Comedy']   \n",
       "\n",
       "                                            overview  popularity release_date  \\\n",
       "0  Led by Woody, Andy's toys live happily in his ...   21.946943   1995-10-30   \n",
       "1  When siblings Judy and Peter discover an encha...   17.015539   1995-12-15   \n",
       "2  A family wedding reignites the ancient feud be...   11.712900   1995-12-22   \n",
       "3  Cheated on, mistreated and stepped on, the wom...    3.859495   1995-12-22   \n",
       "4  Just when George Banks has recovered from his ...    8.387519   1995-02-10   \n",
       "\n",
       "                                             tagline  vote_average  vote_count  \n",
       "0                                                NaN           7.7      5415.0  \n",
       "1          Roll the dice and unleash the excitement!           6.9      2413.0  \n",
       "2  Still Yelling. Still Fighting. Still Ready for...           6.5        92.0  \n",
       "3  Friends are the people who let you be yourself...           6.1        34.0  \n",
       "4  Just When His World Is Back To Normal... He's ...           5.7       173.0  "
      ]
     },
     "execution_count": 4,
     "metadata": {},
     "output_type": "execute_result"
    }
   ],
   "source": [
    "movies.head()"
   ]
  },
  {
   "cell_type": "code",
   "execution_count": 5,
   "metadata": {
    "colab": {},
    "colab_type": "code",
    "id": "BUjgi7BJMxwF",
    "outputId": "ee954399-b896-4694-b56c-18b11eeeea37"
   },
   "outputs": [
    {
     "data": {
      "text/plain": [
       "(45463, 9)"
      ]
     },
     "execution_count": 5,
     "metadata": {},
     "output_type": "execute_result"
    }
   ],
   "source": [
    "movies.shape"
   ]
  },
  {
   "cell_type": "code",
   "execution_count": 10,
   "metadata": {},
   "outputs": [
    {
     "name": "stderr",
     "output_type": "stream",
     "text": [
      "/var/folders/7l/8dt2fvys1b75lrc4gj_0dfb40000gn/T/ipykernel_61166/1627847755.py:1: SettingWithCopyWarning: \n",
      "A value is trying to be set on a copy of a slice from a DataFrame.\n",
      "Try using .loc[row_indexer,col_indexer] = value instead\n",
      "\n",
      "See the caveats in the documentation: https://pandas.pydata.org/pandas-docs/stable/user_guide/indexing.html#returning-a-view-versus-a-copy\n",
      "  movies['tagline'] = movies['tagline'].fillna('')\n",
      "/var/folders/7l/8dt2fvys1b75lrc4gj_0dfb40000gn/T/ipykernel_61166/1627847755.py:2: SettingWithCopyWarning: \n",
      "A value is trying to be set on a copy of a slice from a DataFrame.\n",
      "Try using .loc[row_indexer,col_indexer] = value instead\n",
      "\n",
      "See the caveats in the documentation: https://pandas.pydata.org/pandas-docs/stable/user_guide/indexing.html#returning-a-view-versus-a-copy\n",
      "  movies['overview'] = movies['overview'].fillna('')\n"
     ]
    }
   ],
   "source": [
    "movies['tagline'] = movies['tagline'].fillna('')\n",
    "movies['overview'] = movies['overview'].fillna('')"
   ]
  },
  {
   "cell_type": "code",
   "execution_count": 11,
   "metadata": {},
   "outputs": [
    {
     "name": "stderr",
     "output_type": "stream",
     "text": [
      "/var/folders/7l/8dt2fvys1b75lrc4gj_0dfb40000gn/T/ipykernel_61166/565918900.py:1: SettingWithCopyWarning: \n",
      "A value is trying to be set on a copy of a slice from a DataFrame.\n",
      "Try using .loc[row_indexer,col_indexer] = value instead\n",
      "\n",
      "See the caveats in the documentation: https://pandas.pydata.org/pandas-docs/stable/user_guide/indexing.html#returning-a-view-versus-a-copy\n",
      "  movies['description'] = movies['tagline'] + movies['overview']\n"
     ]
    }
   ],
   "source": [
    "movies['description'] = movies['tagline'] + movies['overview']"
   ]
  },
  {
   "cell_type": "code",
   "execution_count": 13,
   "metadata": {
    "colab": {},
    "colab_type": "code",
    "id": "puPAowaOMxwK",
    "scrolled": true
   },
   "outputs": [],
   "source": [
    "tf = TfidfVectorizer(analyzer='word', ngram_range=(1, 2), min_df=0, stop_words='english')\n",
    "tfidf_matrix = tf.fit_transform(movies['description'])"
   ]
  },
  {
   "cell_type": "code",
   "execution_count": 14,
   "metadata": {
    "colab": {},
    "colab_type": "code",
    "id": "kRhiRNTMMxwN",
    "outputId": "8cfce82f-e7ae-404f-c17f-46ccb12100d4"
   },
   "outputs": [
    {
     "data": {
      "text/plain": [
       "(45463, 1109556)"
      ]
     },
     "execution_count": 14,
     "metadata": {},
     "output_type": "execute_result"
    }
   ],
   "source": [
    "tfidf_matrix.shape"
   ]
  },
  {
   "cell_type": "code",
   "execution_count": 15,
   "metadata": {
    "colab": {},
    "colab_type": "code",
    "id": "7DCfM9i-MxwP"
   },
   "outputs": [],
   "source": [
    "# http://scikit-learn.org/stable/modules/metrics.html#linear-kernel\n",
    "cosine_sim = linear_kernel(tfidf_matrix, tfidf_matrix)"
   ]
  },
  {
   "cell_type": "code",
   "execution_count": 17,
   "metadata": {
    "colab": {},
    "colab_type": "code",
    "id": "5L4To6CSMxwR",
    "outputId": "1c1b9106-8498-405a-aca5-5c85e0f1a3ef"
   },
   "outputs": [
    {
     "data": {
      "text/plain": [
       "original_title\n",
       "Toy Story    0\n",
       "Jumanji      1\n",
       "dtype: int64"
      ]
     },
     "execution_count": 17,
     "metadata": {},
     "output_type": "execute_result"
    }
   ],
   "source": [
    "movies = movies.reset_index()\n",
    "titles = movies['original_title']\n",
    "indices = pd.Series(movies.index, index=movies['original_title'])\n",
    "indices.head(2)"
   ]
  },
  {
   "cell_type": "code",
   "execution_count": 18,
   "metadata": {
    "colab": {},
    "colab_type": "code",
    "id": "996NqbZdMxwT"
   },
   "outputs": [],
   "source": [
    "def get_recommendations(title):\n",
    "    idx = indices[title]\n",
    "    if type(idx) != np.int64:\n",
    "        if len(idx)>1:\n",
    "            print(\"ALERT: Multiple values\")\n",
    "            idx = idx[0]\n",
    "    sim_scores = list(enumerate(cosine_sim[idx]))\n",
    "    sim_scores = sorted(sim_scores, key=lambda x: x[1], reverse=True)\n",
    "    sim_scores = sim_scores[1:31]\n",
    "    movie_indices = [i[0] for i in sim_scores]\n",
    "    return titles.iloc[movie_indices]"
   ]
  },
  {
   "cell_type": "code",
   "execution_count": 19,
   "metadata": {
    "colab": {},
    "colab_type": "code",
    "id": "Z1SL8Pw_MxwV",
    "outputId": "e4738a72-911a-4691-b8dc-cda1b5d80480"
   },
   "outputs": [
    {
     "name": "stdout",
     "output_type": "stream",
     "text": [
      "ALERT: Multiple values\n"
     ]
    },
    {
     "data": {
      "text/plain": [
       "18252                                The Dark Knight Rises\n",
       "150                                         Batman Forever\n",
       "1328                                        Batman Returns\n",
       "21193    Batman Unmasked: The Psychology of the Dark Kn...\n",
       "15511                           Batman: Under the Red Hood\n",
       "20231              Batman: The Dark Knight Returns, Part 2\n",
       "41973                                The Lego Batman Movie\n",
       "585                                                 Batman\n",
       "25266                                    Batman vs Dracula\n",
       "18035                                     Batman: Year One\n",
       "Name: original_title, dtype: object"
      ]
     },
     "execution_count": 19,
     "metadata": {},
     "output_type": "execute_result"
    }
   ],
   "source": [
    "get_recommendations('The Dark Knight').head(10)"
   ]
  },
  {
   "cell_type": "code",
   "execution_count": 20,
   "metadata": {
    "colab": {},
    "colab_type": "code",
    "id": "e3tlQvd6Mxwa",
    "outputId": "6dc9aef8-91f2-4c9c-a4db-97965315577f"
   },
   "outputs": [
    {
     "data": {
      "text/plain": [
       "2997                                      Toy Story 2\n",
       "15348                                     Toy Story 3\n",
       "24522                                       Small Fry\n",
       "23842                     Andy Hardy's Blonde Trouble\n",
       "8327                                        The Champ\n",
       "10301                          The 40 Year Old Virgin\n",
       "43424                Andy Kaufman Plays Carnegie Hall\n",
       "3057                                  Man on the Moon\n",
       "38473    Superstar: The Life and Times of Andy Warhol\n",
       "42718    Andy Peters: Exclamation Mark Question Point\n",
       "Name: original_title, dtype: object"
      ]
     },
     "execution_count": 20,
     "metadata": {},
     "output_type": "execute_result"
    }
   ],
   "source": [
    "get_recommendations('Toy Story').head(10)"
   ]
  },
  {
   "cell_type": "code",
   "execution_count": 21,
   "metadata": {
    "colab": {},
    "colab_type": "code",
    "id": "x2hJdF2QMxwh",
    "outputId": "c64d5ed4-f6a3-447b-bce9-f82e78b051e1"
   },
   "outputs": [
    {
     "data": {
      "text/plain": [
       "313                          The Santa Clause\n",
       "16101                 Как я провёл этим летом\n",
       "38357                            Le père Noël\n",
       "41984                 The Spirit of Christmas\n",
       "22177    The Life & Adventures of Santa Claus\n",
       "2285                   Miracle on 34th Street\n",
       "34846              Il Natale che quasi non fu\n",
       "25099                              Santa Who?\n",
       "36893    The Life & Adventures of Santa Claus\n",
       "8856               Silent Night, Deadly Night\n",
       "Name: original_title, dtype: object"
      ]
     },
     "execution_count": 21,
     "metadata": {},
     "output_type": "execute_result"
    }
   ],
   "source": [
    "get_recommendations('Doctor Who: Last Christmas').head(10)"
   ]
  },
  {
   "cell_type": "code",
   "execution_count": 23,
   "metadata": {
    "colab": {},
    "colab_type": "code",
    "id": "cY4pfMQ6Mxwj",
    "outputId": "48d43149-7d6a-4d36-f467-dd848792da2a",
    "scrolled": true
   },
   "outputs": [
    {
     "data": {
      "text/plain": [
       "\"['Science Fiction', 'Adventure', 'Drama', 'Fantasy']\""
      ]
     },
     "execution_count": 23,
     "metadata": {},
     "output_type": "execute_result"
    }
   ],
   "source": [
    "movies[movies['original_title'] == 'Doctor Who: Last Christmas']['genres'].values[0]"
   ]
  },
  {
   "cell_type": "code",
   "execution_count": 24,
   "metadata": {
    "colab": {},
    "colab_type": "code",
    "id": "achAM2kOMxwm",
    "outputId": "031641cc-6739-4bc3-ee62-ea21c832ceb3"
   },
   "outputs": [
    {
     "data": {
      "text/plain": [
       "'The Doctor and Clara face their Last Christmas. Trapped on an Arctic base, under attack from terrifying creatures, who are you going to call? Santa Claus!'"
      ]
     },
     "execution_count": 24,
     "metadata": {},
     "output_type": "execute_result"
    }
   ],
   "source": [
    "movies[movies['original_title'] == 'Doctor Who: Last Christmas']['overview'].values[0]"
   ]
  },
  {
   "cell_type": "code",
   "execution_count": 25,
   "metadata": {
    "colab": {},
    "colab_type": "code",
    "id": "_qWF7GNFMxwo",
    "outputId": "5e059cfe-1a17-4811-80f9-6f9c262470a9",
    "scrolled": true
   },
   "outputs": [
    {
     "data": {
      "text/plain": [
       "7460                 Cypher\n",
       "10908           Renaissance\n",
       "44311                   III\n",
       "9095              The Brave\n",
       "25448    Closer to the Moon\n",
       "29073         Dear Murderer\n",
       "32013              Hollywoo\n",
       "22618      The Monkey's Paw\n",
       "779               Lone Star\n",
       "20358    En kvinnas ansikte\n",
       "Name: original_title, dtype: object"
      ]
     },
     "execution_count": 25,
     "metadata": {},
     "output_type": "execute_result"
    }
   ],
   "source": [
    "get_recommendations('Inception').head(10)"
   ]
  },
  {
   "cell_type": "code",
   "execution_count": 26,
   "metadata": {
    "colab": {},
    "colab_type": "code",
    "id": "HYBrumJMMxwq",
    "outputId": "332ba5a5-231b-4847-b773-00033544f0f0"
   },
   "outputs": [
    {
     "data": {
      "text/plain": [
       "\"A small European town, where sisters Ayia and Mirra live, gets struck down by an unknown disease which takes many lives. Following their mother's death, the younger sister falls ill. Having realized that conventional medicine is useless in the face of the sister's disease, Ayia seeks help from Father Herman, a parish priest and a close family friend. In his house she finds books that are very far from the conventional religion. She gets to know that only penetration into Mirra's sick subconscious mind and discovery of the true cause of her disease will give her a chance to save her sister. Ayia is ready to go through this terrifying ritual, dive into the depths of the subconscious mind, and face the demons residing there.\""
      ]
     },
     "execution_count": 26,
     "metadata": {},
     "output_type": "execute_result"
    }
   ],
   "source": [
    "movies[movies['original_title'] == 'III']['overview'].values[0]"
   ]
  },
  {
   "cell_type": "code",
   "execution_count": 27,
   "metadata": {
    "colab": {},
    "colab_type": "code",
    "id": "0BKBof28Mxws",
    "outputId": "cac86ec6-028b-4f61-b6ed-fcec6ddd128f",
    "scrolled": true
   },
   "outputs": [
    {
     "data": {
      "text/plain": [
       "'Cobb, a skilled thief who commits corporate espionage by infiltrating the subconscious of his targets is offered a chance to regain his old life as payment for a task considered to be impossible: \"inception\", the implantation of another person\\'s idea into a target\\'s subconscious.'"
      ]
     },
     "execution_count": 27,
     "metadata": {},
     "output_type": "execute_result"
    }
   ],
   "source": [
    "movies[movies['original_title'] == 'Inception']['overview'].values[0]"
   ]
  },
  {
   "cell_type": "code",
   "execution_count": 28,
   "metadata": {
    "colab": {},
    "colab_type": "code",
    "id": "utqjBJaIMxwu",
    "outputId": "8216ec9b-9303-4e04-f3a2-fa9ac3189b2e"
   },
   "outputs": [
    {
     "data": {
      "text/html": [
       "<div>\n",
       "<style scoped>\n",
       "    .dataframe tbody tr th:only-of-type {\n",
       "        vertical-align: middle;\n",
       "    }\n",
       "\n",
       "    .dataframe tbody tr th {\n",
       "        vertical-align: top;\n",
       "    }\n",
       "\n",
       "    .dataframe thead th {\n",
       "        text-align: right;\n",
       "    }\n",
       "</style>\n",
       "<table border=\"1\" class=\"dataframe\">\n",
       "  <thead>\n",
       "    <tr style=\"text-align: right;\">\n",
       "      <th></th>\n",
       "      <th>popularity</th>\n",
       "      <th>vote_average</th>\n",
       "      <th>vote_count</th>\n",
       "    </tr>\n",
       "  </thead>\n",
       "  <tbody>\n",
       "    <tr>\n",
       "      <th>popularity</th>\n",
       "      <td>1.000000</td>\n",
       "      <td>0.154399</td>\n",
       "      <td>0.559965</td>\n",
       "    </tr>\n",
       "    <tr>\n",
       "      <th>vote_average</th>\n",
       "      <td>0.154399</td>\n",
       "      <td>1.000000</td>\n",
       "      <td>0.123607</td>\n",
       "    </tr>\n",
       "    <tr>\n",
       "      <th>vote_count</th>\n",
       "      <td>0.559965</td>\n",
       "      <td>0.123607</td>\n",
       "      <td>1.000000</td>\n",
       "    </tr>\n",
       "  </tbody>\n",
       "</table>\n",
       "</div>"
      ],
      "text/plain": [
       "              popularity  vote_average  vote_count\n",
       "popularity      1.000000      0.154399    0.559965\n",
       "vote_average    0.154399      1.000000    0.123607\n",
       "vote_count      0.559965      0.123607    1.000000"
      ]
     },
     "execution_count": 28,
     "metadata": {},
     "output_type": "execute_result"
    }
   ],
   "source": [
    "popularity_df = movies[['popularity', 'vote_average', 'vote_count']]\n",
    "popularity_df.corr()"
   ]
  },
  {
   "cell_type": "markdown",
   "metadata": {
    "colab_type": "text",
    "id": "qsityhWyMxwy"
   },
   "source": [
    "## Include genre in TF-IDF"
   ]
  },
  {
   "cell_type": "code",
   "execution_count": 29,
   "metadata": {
    "colab": {},
    "colab_type": "code",
    "id": "ZikuR4oMMxwy"
   },
   "outputs": [
    {
     "data": {
      "text/html": [
       "<div>\n",
       "<style scoped>\n",
       "    .dataframe tbody tr th:only-of-type {\n",
       "        vertical-align: middle;\n",
       "    }\n",
       "\n",
       "    .dataframe tbody tr th {\n",
       "        vertical-align: top;\n",
       "    }\n",
       "\n",
       "    .dataframe thead th {\n",
       "        text-align: right;\n",
       "    }\n",
       "</style>\n",
       "<table border=\"1\" class=\"dataframe\">\n",
       "  <thead>\n",
       "    <tr style=\"text-align: right;\">\n",
       "      <th></th>\n",
       "      <th>level_0</th>\n",
       "      <th>index</th>\n",
       "      <th>tmdbId</th>\n",
       "      <th>original_title</th>\n",
       "      <th>genres</th>\n",
       "      <th>overview</th>\n",
       "      <th>popularity</th>\n",
       "      <th>release_date</th>\n",
       "      <th>tagline</th>\n",
       "      <th>vote_average</th>\n",
       "      <th>vote_count</th>\n",
       "      <th>description</th>\n",
       "      <th>description_genre</th>\n",
       "    </tr>\n",
       "  </thead>\n",
       "  <tbody>\n",
       "    <tr>\n",
       "      <th>0</th>\n",
       "      <td>0</td>\n",
       "      <td>0</td>\n",
       "      <td>862</td>\n",
       "      <td>Toy Story</td>\n",
       "      <td>['Animation', 'Comedy', 'Family']</td>\n",
       "      <td>Led by Woody, Andy's toys live happily in his ...</td>\n",
       "      <td>21.946943</td>\n",
       "      <td>1995-10-30</td>\n",
       "      <td></td>\n",
       "      <td>7.7</td>\n",
       "      <td>5415.0</td>\n",
       "      <td>Led by Woody, Andy's toys live happily in his ...</td>\n",
       "      <td>Led by Woody, Andy's toys live happily in his ...</td>\n",
       "    </tr>\n",
       "    <tr>\n",
       "      <th>1</th>\n",
       "      <td>1</td>\n",
       "      <td>1</td>\n",
       "      <td>8844</td>\n",
       "      <td>Jumanji</td>\n",
       "      <td>['Adventure', 'Fantasy', 'Family']</td>\n",
       "      <td>When siblings Judy and Peter discover an encha...</td>\n",
       "      <td>17.015539</td>\n",
       "      <td>1995-12-15</td>\n",
       "      <td>Roll the dice and unleash the excitement!</td>\n",
       "      <td>6.9</td>\n",
       "      <td>2413.0</td>\n",
       "      <td>Roll the dice and unleash the excitement!When ...</td>\n",
       "      <td>Roll the dice and unleash the excitement!When ...</td>\n",
       "    </tr>\n",
       "    <tr>\n",
       "      <th>2</th>\n",
       "      <td>2</td>\n",
       "      <td>2</td>\n",
       "      <td>15602</td>\n",
       "      <td>Grumpier Old Men</td>\n",
       "      <td>['Romance', 'Comedy']</td>\n",
       "      <td>A family wedding reignites the ancient feud be...</td>\n",
       "      <td>11.712900</td>\n",
       "      <td>1995-12-22</td>\n",
       "      <td>Still Yelling. Still Fighting. Still Ready for...</td>\n",
       "      <td>6.5</td>\n",
       "      <td>92.0</td>\n",
       "      <td>Still Yelling. Still Fighting. Still Ready for...</td>\n",
       "      <td>Still Yelling. Still Fighting. Still Ready for...</td>\n",
       "    </tr>\n",
       "    <tr>\n",
       "      <th>3</th>\n",
       "      <td>3</td>\n",
       "      <td>3</td>\n",
       "      <td>31357</td>\n",
       "      <td>Waiting to Exhale</td>\n",
       "      <td>['Comedy', 'Drama', 'Romance']</td>\n",
       "      <td>Cheated on, mistreated and stepped on, the wom...</td>\n",
       "      <td>3.859495</td>\n",
       "      <td>1995-12-22</td>\n",
       "      <td>Friends are the people who let you be yourself...</td>\n",
       "      <td>6.1</td>\n",
       "      <td>34.0</td>\n",
       "      <td>Friends are the people who let you be yourself...</td>\n",
       "      <td>Friends are the people who let you be yourself...</td>\n",
       "    </tr>\n",
       "    <tr>\n",
       "      <th>4</th>\n",
       "      <td>4</td>\n",
       "      <td>4</td>\n",
       "      <td>11862</td>\n",
       "      <td>Father of the Bride Part II</td>\n",
       "      <td>['Comedy']</td>\n",
       "      <td>Just when George Banks has recovered from his ...</td>\n",
       "      <td>8.387519</td>\n",
       "      <td>1995-02-10</td>\n",
       "      <td>Just When His World Is Back To Normal... He's ...</td>\n",
       "      <td>5.7</td>\n",
       "      <td>173.0</td>\n",
       "      <td>Just When His World Is Back To Normal... He's ...</td>\n",
       "      <td>Just When His World Is Back To Normal... He's ...</td>\n",
       "    </tr>\n",
       "    <tr>\n",
       "      <th>...</th>\n",
       "      <td>...</td>\n",
       "      <td>...</td>\n",
       "      <td>...</td>\n",
       "      <td>...</td>\n",
       "      <td>...</td>\n",
       "      <td>...</td>\n",
       "      <td>...</td>\n",
       "      <td>...</td>\n",
       "      <td>...</td>\n",
       "      <td>...</td>\n",
       "      <td>...</td>\n",
       "      <td>...</td>\n",
       "      <td>...</td>\n",
       "    </tr>\n",
       "    <tr>\n",
       "      <th>45458</th>\n",
       "      <td>45458</td>\n",
       "      <td>45458</td>\n",
       "      <td>439050</td>\n",
       "      <td>رگ خواب</td>\n",
       "      <td>['Drama', 'Family']</td>\n",
       "      <td>Rising and falling between a man and woman.</td>\n",
       "      <td>0.072051</td>\n",
       "      <td>NaN</td>\n",
       "      <td>Rising and falling between a man and woman</td>\n",
       "      <td>4.0</td>\n",
       "      <td>1.0</td>\n",
       "      <td>Rising and falling between a man and womanRisi...</td>\n",
       "      <td>Rising and falling between a man and womanRisi...</td>\n",
       "    </tr>\n",
       "    <tr>\n",
       "      <th>45459</th>\n",
       "      <td>45459</td>\n",
       "      <td>45459</td>\n",
       "      <td>111109</td>\n",
       "      <td>Siglo ng Pagluluwal</td>\n",
       "      <td>['Drama']</td>\n",
       "      <td>An artist struggles to finish his work while a...</td>\n",
       "      <td>0.178241</td>\n",
       "      <td>2011-11-17</td>\n",
       "      <td></td>\n",
       "      <td>9.0</td>\n",
       "      <td>3.0</td>\n",
       "      <td>An artist struggles to finish his work while a...</td>\n",
       "      <td>An artist struggles to finish his work while a...</td>\n",
       "    </tr>\n",
       "    <tr>\n",
       "      <th>45460</th>\n",
       "      <td>45460</td>\n",
       "      <td>45460</td>\n",
       "      <td>67758</td>\n",
       "      <td>Betrayal</td>\n",
       "      <td>['Action', 'Drama', 'Thriller']</td>\n",
       "      <td>When one of her hits goes wrong, a professiona...</td>\n",
       "      <td>0.903007</td>\n",
       "      <td>2003-08-01</td>\n",
       "      <td>A deadly game of wits.</td>\n",
       "      <td>3.8</td>\n",
       "      <td>6.0</td>\n",
       "      <td>A deadly game of wits.When one of her hits goe...</td>\n",
       "      <td>A deadly game of wits.When one of her hits goe...</td>\n",
       "    </tr>\n",
       "    <tr>\n",
       "      <th>45461</th>\n",
       "      <td>45461</td>\n",
       "      <td>45461</td>\n",
       "      <td>227506</td>\n",
       "      <td>Satana likuyushchiy</td>\n",
       "      <td>[]</td>\n",
       "      <td>In a small town live two brothers, one a minis...</td>\n",
       "      <td>0.003503</td>\n",
       "      <td>1917-10-21</td>\n",
       "      <td></td>\n",
       "      <td>0.0</td>\n",
       "      <td>0.0</td>\n",
       "      <td>In a small town live two brothers, one a minis...</td>\n",
       "      <td>In a small town live two brothers, one a minis...</td>\n",
       "    </tr>\n",
       "    <tr>\n",
       "      <th>45462</th>\n",
       "      <td>45462</td>\n",
       "      <td>45462</td>\n",
       "      <td>461257</td>\n",
       "      <td>Queerama</td>\n",
       "      <td>[]</td>\n",
       "      <td>50 years after decriminalisation of homosexual...</td>\n",
       "      <td>0.163015</td>\n",
       "      <td>2017-06-09</td>\n",
       "      <td></td>\n",
       "      <td>0.0</td>\n",
       "      <td>0.0</td>\n",
       "      <td>50 years after decriminalisation of homosexual...</td>\n",
       "      <td>50 years after decriminalisation of homosexual...</td>\n",
       "    </tr>\n",
       "  </tbody>\n",
       "</table>\n",
       "<p>45463 rows × 13 columns</p>\n",
       "</div>"
      ],
      "text/plain": [
       "       level_0  index  tmdbId               original_title  \\\n",
       "0            0      0     862                    Toy Story   \n",
       "1            1      1    8844                      Jumanji   \n",
       "2            2      2   15602             Grumpier Old Men   \n",
       "3            3      3   31357            Waiting to Exhale   \n",
       "4            4      4   11862  Father of the Bride Part II   \n",
       "...        ...    ...     ...                          ...   \n",
       "45458    45458  45458  439050                      رگ خواب   \n",
       "45459    45459  45459  111109          Siglo ng Pagluluwal   \n",
       "45460    45460  45460   67758                     Betrayal   \n",
       "45461    45461  45461  227506          Satana likuyushchiy   \n",
       "45462    45462  45462  461257                     Queerama   \n",
       "\n",
       "                                   genres  \\\n",
       "0       ['Animation', 'Comedy', 'Family']   \n",
       "1      ['Adventure', 'Fantasy', 'Family']   \n",
       "2                   ['Romance', 'Comedy']   \n",
       "3          ['Comedy', 'Drama', 'Romance']   \n",
       "4                              ['Comedy']   \n",
       "...                                   ...   \n",
       "45458                 ['Drama', 'Family']   \n",
       "45459                           ['Drama']   \n",
       "45460     ['Action', 'Drama', 'Thriller']   \n",
       "45461                                  []   \n",
       "45462                                  []   \n",
       "\n",
       "                                                overview  popularity  \\\n",
       "0      Led by Woody, Andy's toys live happily in his ...   21.946943   \n",
       "1      When siblings Judy and Peter discover an encha...   17.015539   \n",
       "2      A family wedding reignites the ancient feud be...   11.712900   \n",
       "3      Cheated on, mistreated and stepped on, the wom...    3.859495   \n",
       "4      Just when George Banks has recovered from his ...    8.387519   \n",
       "...                                                  ...         ...   \n",
       "45458        Rising and falling between a man and woman.    0.072051   \n",
       "45459  An artist struggles to finish his work while a...    0.178241   \n",
       "45460  When one of her hits goes wrong, a professiona...    0.903007   \n",
       "45461  In a small town live two brothers, one a minis...    0.003503   \n",
       "45462  50 years after decriminalisation of homosexual...    0.163015   \n",
       "\n",
       "      release_date                                            tagline  \\\n",
       "0       1995-10-30                                                      \n",
       "1       1995-12-15          Roll the dice and unleash the excitement!   \n",
       "2       1995-12-22  Still Yelling. Still Fighting. Still Ready for...   \n",
       "3       1995-12-22  Friends are the people who let you be yourself...   \n",
       "4       1995-02-10  Just When His World Is Back To Normal... He's ...   \n",
       "...            ...                                                ...   \n",
       "45458          NaN         Rising and falling between a man and woman   \n",
       "45459   2011-11-17                                                      \n",
       "45460   2003-08-01                             A deadly game of wits.   \n",
       "45461   1917-10-21                                                      \n",
       "45462   2017-06-09                                                      \n",
       "\n",
       "       vote_average  vote_count  \\\n",
       "0               7.7      5415.0   \n",
       "1               6.9      2413.0   \n",
       "2               6.5        92.0   \n",
       "3               6.1        34.0   \n",
       "4               5.7       173.0   \n",
       "...             ...         ...   \n",
       "45458           4.0         1.0   \n",
       "45459           9.0         3.0   \n",
       "45460           3.8         6.0   \n",
       "45461           0.0         0.0   \n",
       "45462           0.0         0.0   \n",
       "\n",
       "                                             description  \\\n",
       "0      Led by Woody, Andy's toys live happily in his ...   \n",
       "1      Roll the dice and unleash the excitement!When ...   \n",
       "2      Still Yelling. Still Fighting. Still Ready for...   \n",
       "3      Friends are the people who let you be yourself...   \n",
       "4      Just When His World Is Back To Normal... He's ...   \n",
       "...                                                  ...   \n",
       "45458  Rising and falling between a man and womanRisi...   \n",
       "45459  An artist struggles to finish his work while a...   \n",
       "45460  A deadly game of wits.When one of her hits goe...   \n",
       "45461  In a small town live two brothers, one a minis...   \n",
       "45462  50 years after decriminalisation of homosexual...   \n",
       "\n",
       "                                       description_genre  \n",
       "0      Led by Woody, Andy's toys live happily in his ...  \n",
       "1      Roll the dice and unleash the excitement!When ...  \n",
       "2      Still Yelling. Still Fighting. Still Ready for...  \n",
       "3      Friends are the people who let you be yourself...  \n",
       "4      Just When His World Is Back To Normal... He's ...  \n",
       "...                                                  ...  \n",
       "45458  Rising and falling between a man and womanRisi...  \n",
       "45459  An artist struggles to finish his work while a...  \n",
       "45460  A deadly game of wits.When one of her hits goe...  \n",
       "45461  In a small town live two brothers, one a minis...  \n",
       "45462  50 years after decriminalisation of homosexual...  \n",
       "\n",
       "[45463 rows x 13 columns]"
      ]
     },
     "execution_count": 29,
     "metadata": {},
     "output_type": "execute_result"
    }
   ],
   "source": [
    "movies['description_genre'] = movies['description'] + 2*movies['genres']\n",
    "movies['description_genre'] = movies['description_genre'].fillna('')\n",
    "movies"
   ]
  },
  {
   "cell_type": "code",
   "execution_count": 30,
   "metadata": {
    "colab": {},
    "colab_type": "code",
    "id": "sVTGPgKRMxw0"
   },
   "outputs": [],
   "source": [
    "tf_new = CountVectorizer(analyzer='word', ngram_range=(1, 2), min_df=0, stop_words='english')\n",
    "tfidf_matrix_new = tf_new.fit_transform(movies['description_genre'])"
   ]
  },
  {
   "cell_type": "code",
   "execution_count": 31,
   "metadata": {
    "colab": {},
    "colab_type": "code",
    "id": "1MbdycTsMxw2"
   },
   "outputs": [],
   "source": [
    "cosine_sim_new = linear_kernel(tfidf_matrix_new, tfidf_matrix_new)"
   ]
  },
  {
   "cell_type": "code",
   "execution_count": 32,
   "metadata": {
    "colab": {},
    "colab_type": "code",
    "id": "GGpWsWcaMxw5",
    "outputId": "f0412dda-cd93-4471-95ab-58fb59726519"
   },
   "outputs": [
    {
     "data": {
      "text/plain": [
       "878800"
      ]
     },
     "execution_count": 32,
     "metadata": {},
     "output_type": "execute_result"
    }
   ],
   "source": [
    "tf_new.vocabulary_['scifi']"
   ]
  },
  {
   "cell_type": "code",
   "execution_count": 34,
   "metadata": {
    "colab": {},
    "colab_type": "code",
    "id": "raobpIGGMxw7",
    "outputId": "79cac19b-aa95-456e-dc57-8b485dda099d"
   },
   "outputs": [
    {
     "data": {
      "text/plain": [
       "original_title\n",
       "Toy Story    0\n",
       "Jumanji      1\n",
       "dtype: int64"
      ]
     },
     "execution_count": 34,
     "metadata": {},
     "output_type": "execute_result"
    }
   ],
   "source": [
    "# movies = movies.reset_index()\n",
    "titles = movies['original_title']\n",
    "indices = pd.Series(movies.index, index=movies['original_title'])\n",
    "indices.head(2)"
   ]
  },
  {
   "cell_type": "code",
   "execution_count": 35,
   "metadata": {
    "colab": {},
    "colab_type": "code",
    "id": "xAnmbe07Mxw8"
   },
   "outputs": [],
   "source": [
    "def get_recommendations_new(title):\n",
    "    idx = indices[title]\n",
    "    if type(idx) != np.int64:\n",
    "        if len(idx)>1:\n",
    "            print(\"ALERT: Multiple values\")\n",
    "            idx = idx[0]\n",
    "    sim_scores = list(enumerate(cosine_sim_new[idx]))\n",
    "    sim_scores = sorted(sim_scores, key=lambda x: x[1], reverse=True)\n",
    "    sim_scores = sim_scores[1:31]\n",
    "    movie_indices = [i[0] for i in sim_scores]\n",
    "    return titles.iloc[movie_indices]"
   ]
  },
  {
   "cell_type": "code",
   "execution_count": 36,
   "metadata": {
    "colab": {},
    "colab_type": "code",
    "id": "5xvd2YwAMxw-",
    "outputId": "efe88548-18bf-4700-a80e-4b66dee51f73",
    "scrolled": true
   },
   "outputs": [
    {
     "data": {
      "text/plain": [
       "4149                    The Lost World\n",
       "14332                           Аэлита\n",
       "9952            Le Voyage dans la Lune\n",
       "20105                       Slipstream\n",
       "39666           キングスグレイブ ファイナルファンタジーXV\n",
       "43642                             Okja\n",
       "10466    Left Behind III: World at War\n",
       "24905                         サカサマのパテマ\n",
       "11743                         銀色の髪のアギト\n",
       "33525                          Alraune\n",
       "Name: original_title, dtype: object"
      ]
     },
     "execution_count": 36,
     "metadata": {},
     "output_type": "execute_result"
    }
   ],
   "source": [
    "get_recommendations_new('Doctor Who: Last Christmas').head(10)"
   ]
  },
  {
   "cell_type": "code",
   "execution_count": 51,
   "metadata": {},
   "outputs": [
    {
     "data": {
      "text/plain": [
       "'The Doctor and Clara face their Last Christmas. Trapped on an Arctic base, under attack from terrifying creatures, who are you going to call? Santa Claus!'"
      ]
     },
     "execution_count": 51,
     "metadata": {},
     "output_type": "execute_result"
    }
   ],
   "source": [
    "movies[movies['original_title'] == 'Doctor Who: Last Christmas']['overview'].values[0]"
   ]
  },
  {
   "cell_type": "code",
   "execution_count": 37,
   "metadata": {
    "colab": {},
    "colab_type": "code",
    "id": "TRBI1XD9MxxM",
    "outputId": "182ccb51-a7c3-4c69-8829-bb33332103c3"
   },
   "outputs": [
    {
     "data": {
      "text/plain": [
       "16763                         I Am Number Four\n",
       "36238                                 Pandemic\n",
       "5311                           Minority Report\n",
       "17885                            Ticking Clock\n",
       "39409                             Seventy-Nine\n",
       "1092                                 The Abyss\n",
       "6221                       The Matrix Reloaded\n",
       "8138     Sky Captain and the World of Tomorrow\n",
       "16891                      L: change the WorLd\n",
       "19394                                   Looper\n",
       "Name: original_title, dtype: object"
      ]
     },
     "execution_count": 37,
     "metadata": {},
     "output_type": "execute_result"
    }
   ],
   "source": [
    "get_recommendations_new('Inception').head(10)"
   ]
  },
  {
   "cell_type": "code",
   "execution_count": 38,
   "metadata": {
    "colab": {},
    "colab_type": "code",
    "id": "Ge9f_6c2MxxR",
    "outputId": "d71975e2-f00d-43f5-8e86-c5cfc69a3596"
   },
   "outputs": [
    {
     "data": {
      "text/plain": [
       "7473       Frank Herbert's Dune\n",
       "9952     Le Voyage dans la Lune\n",
       "10192            Fantastic Four\n",
       "3872         Dungeons & Dragons\n",
       "2526                   Superman\n",
       "2527                Superman II\n",
       "21067              Man of Steel\n",
       "26564            Thor: Ragnarok\n",
       "26567            Doctor Strange\n",
       "38479            The Nostalgist\n",
       "Name: original_title, dtype: object"
      ]
     },
     "execution_count": 38,
     "metadata": {},
     "output_type": "execute_result"
    }
   ],
   "source": [
    "get_recommendations_new('Avatar').head(10)"
   ]
  },
  {
   "cell_type": "markdown",
   "metadata": {
    "colab_type": "text",
    "id": "eSlQeR6PMxxU"
   },
   "source": [
    "### IMDB Weighted Average "
   ]
  },
  {
   "cell_type": "code",
   "execution_count": 39,
   "metadata": {
    "colab": {},
    "colab_type": "code",
    "id": "cONT9lRxMxxU",
    "outputId": "f8d59c82-23f0-4df6-aadd-89beab9f0547"
   },
   "outputs": [
    {
     "data": {
      "text/plain": [
       "5.244896612406511"
      ]
     },
     "execution_count": 39,
     "metadata": {},
     "output_type": "execute_result"
    }
   ],
   "source": [
    "# this is V\n",
    "vote_counts = movies[movies['vote_count'].notnull()]['vote_count'].astype('int')\n",
    "\n",
    "# this is R\n",
    "vote_averages = movies[movies['vote_average'].notnull()]['vote_average'].astype('int')\n",
    "\n",
    "# this is C\n",
    "C = vote_averages.mean()\n",
    "C"
   ]
  },
  {
   "cell_type": "code",
   "execution_count": 40,
   "metadata": {
    "colab": {},
    "colab_type": "code",
    "id": "7wpPHYvoMxxW",
    "outputId": "67224abc-a78a-47f4-cd8c-abcdf20a46dc"
   },
   "outputs": [
    {
     "data": {
      "text/plain": [
       "434.0"
      ]
     },
     "execution_count": 40,
     "metadata": {},
     "output_type": "execute_result"
    }
   ],
   "source": [
    "m = vote_counts.quantile(0.95)\n",
    "m"
   ]
  },
  {
   "cell_type": "code",
   "execution_count": 41,
   "metadata": {
    "colab": {},
    "colab_type": "code",
    "id": "L6ZsvGmSMxxY"
   },
   "outputs": [],
   "source": [
    "def weighted_rating(x):\n",
    "    v = x['vote_count']\n",
    "    R = x['vote_average']\n",
    "    return (v/(v+m) * R) + (m/(m+v) * C)"
   ]
  },
  {
   "cell_type": "markdown",
   "metadata": {
    "colab_type": "text",
    "id": "Len7O4hVMxxa"
   },
   "source": [
    "## Improved Recommendations"
   ]
  },
  {
   "cell_type": "code",
   "execution_count": 42,
   "metadata": {
    "colab": {},
    "colab_type": "code",
    "id": "60kQ6sXaMxxb"
   },
   "outputs": [],
   "source": [
    "def improved_recommendations(title):\n",
    "    idx = indices[title]\n",
    "    sim_scores = list(enumerate(cosine_sim_new[idx]))\n",
    "    sim_scores = sorted(sim_scores, key=lambda x: x[1], reverse=True)\n",
    "    sim_scores = sim_scores[1:26]\n",
    "    movie_indices = [i[0] for i in sim_scores]\n",
    "    \n",
    "    movies_x = movies.iloc[movie_indices][['original_title', 'vote_count', 'vote_average']]\n",
    "    vote_counts = movies_x[movies_x['vote_count'].notnull()]['vote_count'].astype('int')\n",
    "    vote_averages = movies_x[movies_x['vote_average'].notnull()]['vote_average'].astype('int')\n",
    "    C = vote_averages.mean()\n",
    "    m = vote_counts.quantile(0.60)\n",
    "    qualified = movies_x[(movies_x['vote_count'] >= m) & (movies_x['vote_count'].notnull()) &\n",
    "                       (movies_x['vote_average'].notnull())]\n",
    "    qualified['vote_count'] = qualified['vote_count'].astype('int')\n",
    "    qualified['vote_average'] = qualified['vote_average'].astype('int')\n",
    "    qualified['wr'] = qualified.apply(weighted_rating, axis=1)\n",
    "    qualified = qualified.sort_values('wr', ascending=False).head(10)\n",
    "    return qualified"
   ]
  },
  {
   "cell_type": "code",
   "execution_count": 43,
   "metadata": {
    "colab": {},
    "colab_type": "code",
    "id": "lL3I_RVfMxxd",
    "outputId": "186c6bd5-dfbb-4b04-88d9-f2a216541441",
    "scrolled": true
   },
   "outputs": [
    {
     "name": "stderr",
     "output_type": "stream",
     "text": [
      "/var/folders/7l/8dt2fvys1b75lrc4gj_0dfb40000gn/T/ipykernel_61166/3732453080.py:15: SettingWithCopyWarning: \n",
      "A value is trying to be set on a copy of a slice from a DataFrame.\n",
      "Try using .loc[row_indexer,col_indexer] = value instead\n",
      "\n",
      "See the caveats in the documentation: https://pandas.pydata.org/pandas-docs/stable/user_guide/indexing.html#returning-a-view-versus-a-copy\n",
      "  qualified['vote_count'] = qualified['vote_count'].astype('int')\n",
      "/var/folders/7l/8dt2fvys1b75lrc4gj_0dfb40000gn/T/ipykernel_61166/3732453080.py:16: SettingWithCopyWarning: \n",
      "A value is trying to be set on a copy of a slice from a DataFrame.\n",
      "Try using .loc[row_indexer,col_indexer] = value instead\n",
      "\n",
      "See the caveats in the documentation: https://pandas.pydata.org/pandas-docs/stable/user_guide/indexing.html#returning-a-view-versus-a-copy\n",
      "  qualified['vote_average'] = qualified['vote_average'].astype('int')\n",
      "/var/folders/7l/8dt2fvys1b75lrc4gj_0dfb40000gn/T/ipykernel_61166/3732453080.py:17: SettingWithCopyWarning: \n",
      "A value is trying to be set on a copy of a slice from a DataFrame.\n",
      "Try using .loc[row_indexer,col_indexer] = value instead\n",
      "\n",
      "See the caveats in the documentation: https://pandas.pydata.org/pandas-docs/stable/user_guide/indexing.html#returning-a-view-versus-a-copy\n",
      "  qualified['wr'] = qualified.apply(weighted_rating, axis=1)\n"
     ]
    },
    {
     "data": {
      "text/html": [
       "<div>\n",
       "<style scoped>\n",
       "    .dataframe tbody tr th:only-of-type {\n",
       "        vertical-align: middle;\n",
       "    }\n",
       "\n",
       "    .dataframe tbody tr th {\n",
       "        vertical-align: top;\n",
       "    }\n",
       "\n",
       "    .dataframe thead th {\n",
       "        text-align: right;\n",
       "    }\n",
       "</style>\n",
       "<table border=\"1\" class=\"dataframe\">\n",
       "  <thead>\n",
       "    <tr style=\"text-align: right;\">\n",
       "      <th></th>\n",
       "      <th>original_title</th>\n",
       "      <th>vote_count</th>\n",
       "      <th>vote_average</th>\n",
       "      <th>wr</th>\n",
       "    </tr>\n",
       "  </thead>\n",
       "  <tbody>\n",
       "    <tr>\n",
       "      <th>2416</th>\n",
       "      <td>Planet of the Apes</td>\n",
       "      <td>958</td>\n",
       "      <td>7</td>\n",
       "      <td>6.452791</td>\n",
       "    </tr>\n",
       "    <tr>\n",
       "      <th>43642</th>\n",
       "      <td>Okja</td>\n",
       "      <td>795</td>\n",
       "      <td>7</td>\n",
       "      <td>6.380216</td>\n",
       "    </tr>\n",
       "    <tr>\n",
       "      <th>9952</th>\n",
       "      <td>Le Voyage dans la Lune</td>\n",
       "      <td>314</td>\n",
       "      <td>7</td>\n",
       "      <td>5.981665</td>\n",
       "    </tr>\n",
       "    <tr>\n",
       "      <th>10561</th>\n",
       "      <td>Zathura: A Space Adventure</td>\n",
       "      <td>808</td>\n",
       "      <td>6</td>\n",
       "      <td>5.736139</td>\n",
       "    </tr>\n",
       "    <tr>\n",
       "      <th>24905</th>\n",
       "      <td>サカサマのパテマ</td>\n",
       "      <td>85</td>\n",
       "      <td>7</td>\n",
       "      <td>5.532341</td>\n",
       "    </tr>\n",
       "    <tr>\n",
       "      <th>39666</th>\n",
       "      <td>キングスグレイブ ファイナルファンタジーXV</td>\n",
       "      <td>201</td>\n",
       "      <td>6</td>\n",
       "      <td>5.483914</td>\n",
       "    </tr>\n",
       "    <tr>\n",
       "      <th>5276</th>\n",
       "      <td>Silent Running</td>\n",
       "      <td>179</td>\n",
       "      <td>6</td>\n",
       "      <td>5.465392</td>\n",
       "    </tr>\n",
       "    <tr>\n",
       "      <th>34775</th>\n",
       "      <td>Doctor Who: The Next Doctor</td>\n",
       "      <td>51</td>\n",
       "      <td>7</td>\n",
       "      <td>5.429454</td>\n",
       "    </tr>\n",
       "    <tr>\n",
       "      <th>7401</th>\n",
       "      <td>Explorers</td>\n",
       "      <td>120</td>\n",
       "      <td>6</td>\n",
       "      <td>5.408457</td>\n",
       "    </tr>\n",
       "    <tr>\n",
       "      <th>7473</th>\n",
       "      <td>Frank Herbert's Dune</td>\n",
       "      <td>114</td>\n",
       "      <td>6</td>\n",
       "      <td>5.401980</td>\n",
       "    </tr>\n",
       "  </tbody>\n",
       "</table>\n",
       "</div>"
      ],
      "text/plain": [
       "                    original_title  vote_count  vote_average        wr\n",
       "2416            Planet of the Apes         958             7  6.452791\n",
       "43642                         Okja         795             7  6.380216\n",
       "9952        Le Voyage dans la Lune         314             7  5.981665\n",
       "10561   Zathura: A Space Adventure         808             6  5.736139\n",
       "24905                     サカサマのパテマ          85             7  5.532341\n",
       "39666       キングスグレイブ ファイナルファンタジーXV         201             6  5.483914\n",
       "5276                Silent Running         179             6  5.465392\n",
       "34775  Doctor Who: The Next Doctor          51             7  5.429454\n",
       "7401                     Explorers         120             6  5.408457\n",
       "7473          Frank Herbert's Dune         114             6  5.401980"
      ]
     },
     "execution_count": 43,
     "metadata": {},
     "output_type": "execute_result"
    }
   ],
   "source": [
    "improved_recommendations('Doctor Who: Last Christmas').head(10)"
   ]
  },
  {
   "cell_type": "code",
   "execution_count": 44,
   "metadata": {
    "colab": {},
    "colab_type": "code",
    "id": "LP7vK0wgMxxf",
    "outputId": "70375267-b94f-4027-bfea-924d65581d81"
   },
   "outputs": [
    {
     "name": "stderr",
     "output_type": "stream",
     "text": [
      "/var/folders/7l/8dt2fvys1b75lrc4gj_0dfb40000gn/T/ipykernel_61166/3732453080.py:15: SettingWithCopyWarning: \n",
      "A value is trying to be set on a copy of a slice from a DataFrame.\n",
      "Try using .loc[row_indexer,col_indexer] = value instead\n",
      "\n",
      "See the caveats in the documentation: https://pandas.pydata.org/pandas-docs/stable/user_guide/indexing.html#returning-a-view-versus-a-copy\n",
      "  qualified['vote_count'] = qualified['vote_count'].astype('int')\n",
      "/var/folders/7l/8dt2fvys1b75lrc4gj_0dfb40000gn/T/ipykernel_61166/3732453080.py:16: SettingWithCopyWarning: \n",
      "A value is trying to be set on a copy of a slice from a DataFrame.\n",
      "Try using .loc[row_indexer,col_indexer] = value instead\n",
      "\n",
      "See the caveats in the documentation: https://pandas.pydata.org/pandas-docs/stable/user_guide/indexing.html#returning-a-view-versus-a-copy\n",
      "  qualified['vote_average'] = qualified['vote_average'].astype('int')\n",
      "/var/folders/7l/8dt2fvys1b75lrc4gj_0dfb40000gn/T/ipykernel_61166/3732453080.py:17: SettingWithCopyWarning: \n",
      "A value is trying to be set on a copy of a slice from a DataFrame.\n",
      "Try using .loc[row_indexer,col_indexer] = value instead\n",
      "\n",
      "See the caveats in the documentation: https://pandas.pydata.org/pandas-docs/stable/user_guide/indexing.html#returning-a-view-versus-a-copy\n",
      "  qualified['wr'] = qualified.apply(weighted_rating, axis=1)\n"
     ]
    },
    {
     "data": {
      "text/html": [
       "<div>\n",
       "<style scoped>\n",
       "    .dataframe tbody tr th:only-of-type {\n",
       "        vertical-align: middle;\n",
       "    }\n",
       "\n",
       "    .dataframe tbody tr th {\n",
       "        vertical-align: top;\n",
       "    }\n",
       "\n",
       "    .dataframe thead th {\n",
       "        text-align: right;\n",
       "    }\n",
       "</style>\n",
       "<table border=\"1\" class=\"dataframe\">\n",
       "  <thead>\n",
       "    <tr style=\"text-align: right;\">\n",
       "      <th></th>\n",
       "      <th>original_title</th>\n",
       "      <th>vote_count</th>\n",
       "      <th>vote_average</th>\n",
       "      <th>wr</th>\n",
       "    </tr>\n",
       "  </thead>\n",
       "  <tbody>\n",
       "    <tr>\n",
       "      <th>23358</th>\n",
       "      <td>X-Men: Days of Future Past</td>\n",
       "      <td>6155</td>\n",
       "      <td>7</td>\n",
       "      <td>6.884396</td>\n",
       "    </tr>\n",
       "    <tr>\n",
       "      <th>26567</th>\n",
       "      <td>Doctor Strange</td>\n",
       "      <td>5880</td>\n",
       "      <td>7</td>\n",
       "      <td>6.879361</td>\n",
       "    </tr>\n",
       "    <tr>\n",
       "      <th>9952</th>\n",
       "      <td>Le Voyage dans la Lune</td>\n",
       "      <td>314</td>\n",
       "      <td>7</td>\n",
       "      <td>5.981665</td>\n",
       "    </tr>\n",
       "    <tr>\n",
       "      <th>21067</th>\n",
       "      <td>Man of Steel</td>\n",
       "      <td>6462</td>\n",
       "      <td>6</td>\n",
       "      <td>5.952478</td>\n",
       "    </tr>\n",
       "    <tr>\n",
       "      <th>2526</th>\n",
       "      <td>Superman</td>\n",
       "      <td>1042</td>\n",
       "      <td>6</td>\n",
       "      <td>5.777971</td>\n",
       "    </tr>\n",
       "    <tr>\n",
       "      <th>2527</th>\n",
       "      <td>Superman II</td>\n",
       "      <td>642</td>\n",
       "      <td>6</td>\n",
       "      <td>5.695432</td>\n",
       "    </tr>\n",
       "    <tr>\n",
       "      <th>1811</th>\n",
       "      <td>Small Soldiers</td>\n",
       "      <td>522</td>\n",
       "      <td>6</td>\n",
       "      <td>5.657202</td>\n",
       "    </tr>\n",
       "    <tr>\n",
       "      <th>2528</th>\n",
       "      <td>Superman III</td>\n",
       "      <td>500</td>\n",
       "      <td>5</td>\n",
       "      <td>5.113796</td>\n",
       "    </tr>\n",
       "    <tr>\n",
       "      <th>10192</th>\n",
       "      <td>Fantastic Four</td>\n",
       "      <td>3040</td>\n",
       "      <td>5</td>\n",
       "      <td>5.030594</td>\n",
       "    </tr>\n",
       "    <tr>\n",
       "      <th>13566</th>\n",
       "      <td>Dragonball Evolution</td>\n",
       "      <td>475</td>\n",
       "      <td>2</td>\n",
       "      <td>3.549269</td>\n",
       "    </tr>\n",
       "  </tbody>\n",
       "</table>\n",
       "</div>"
      ],
      "text/plain": [
       "                   original_title  vote_count  vote_average        wr\n",
       "23358  X-Men: Days of Future Past        6155             7  6.884396\n",
       "26567              Doctor Strange        5880             7  6.879361\n",
       "9952       Le Voyage dans la Lune         314             7  5.981665\n",
       "21067                Man of Steel        6462             6  5.952478\n",
       "2526                     Superman        1042             6  5.777971\n",
       "2527                  Superman II         642             6  5.695432\n",
       "1811               Small Soldiers         522             6  5.657202\n",
       "2528                 Superman III         500             5  5.113796\n",
       "10192              Fantastic Four        3040             5  5.030594\n",
       "13566        Dragonball Evolution         475             2  3.549269"
      ]
     },
     "execution_count": 44,
     "metadata": {},
     "output_type": "execute_result"
    }
   ],
   "source": [
    "improved_recommendations('Avatar').head(10)"
   ]
  }
 ],
 "metadata": {
  "colab": {
   "collapsed_sections": [],
   "name": "movie_similarity_based_recs.ipynb",
   "provenance": []
  },
  "kernelspec": {
   "display_name": "Python 3 (ipykernel)",
   "language": "python",
   "name": "python3"
  },
  "language_info": {
   "codemirror_mode": {
    "name": "ipython",
    "version": 3
   },
   "file_extension": ".py",
   "mimetype": "text/x-python",
   "name": "python",
   "nbconvert_exporter": "python",
   "pygments_lexer": "ipython3",
   "version": "3.8.13"
  }
 },
 "nbformat": 4,
 "nbformat_minor": 4
}
